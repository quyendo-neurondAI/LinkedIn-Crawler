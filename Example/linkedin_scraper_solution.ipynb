{
 "cells": [
  {
   "cell_type": "code",
   "execution_count": 2,
   "metadata": {},
   "outputs": [
    {
     "name": "stdout",
     "output_type": "stream",
     "text": [
      "- Finish importing packages\n"
     ]
    }
   ],
   "source": [
    "# Import libraries and packages for the project\n",
    "from webdriver_manager.chrome import ChromeDriverManager\n",
    "\n",
    "from selenium import webdriver\n",
    "from selenium.webdriver.chrome.service import Service as ChromeService\n",
    "from selenium.webdriver.support.wait import WebDriverWait\n",
    "from selenium.webdriver.support import expected_conditions as EC\n",
    "from selenium.webdriver.common.keys import Keys\n",
    "from selenium.webdriver.common.by import By\n",
    "from selenium.common.exceptions import NoSuchElementException\n",
    "\n",
    "from bs4 import BeautifulSoup\n",
    "from time import sleep\n",
    "import re\n",
    "\n",
    "import csv\n",
    "print('- Finish importing packages')"
   ]
  },
  {
   "cell_type": "code",
   "execution_count": null,
   "metadata": {},
   "outputs": [],
   "source": []
  },
  {
   "cell_type": "code",
   "execution_count": 18,
   "metadata": {},
   "outputs": [],
   "source": [
    "def is_bottom_of_page(driver):\n",
    "    # Get the current scroll position and the total scrollable height\n",
    "    current_scroll_position = driver.execute_script(\"return window.pageYOffset + window.innerHeight;\")\n",
    "    total_scroll_height = driver.execute_script(\"return document.body.scrollHeight;\")\n",
    "    return current_scroll_position >= total_scroll_height\n",
    "\n",
    "def GetURL(driver):\n",
    "    page_source = BeautifulSoup(driver.page_source)\n",
    "    profiles = page_source.find_all('a', class_ = 'ember-view mn-connection-card__link')\n",
    "    all_profile_URL = []\n",
    "    for profile in profiles:\n",
    "        profile_ID = profile.get('href')\n",
    "        profile_URL = \"https://www.linkedin.com\" + profile_ID\n",
    "        if profile_URL not in all_profile_URL:\n",
    "            all_profile_URL.append(profile_URL)\n",
    "    return all_profile_URL\n",
    "\n",
    "\n"
   ]
  },
  {
   "cell_type": "code",
   "execution_count": 10,
   "metadata": {},
   "outputs": [
    {
     "name": "stdout",
     "output_type": "stream",
     "text": [
      "- Finish initializing a driver\n",
      "- Finish importing the login credentials\n",
      "- Finish keying in email\n",
      "- Finish keying in password\n",
      "- Finish Task: Login to Linkedin\n",
      "Reached the bottom of the page.\n"
     ]
    }
   ],
   "source": [
    "#region LOGIN LINKEDIN\n",
    "driver = webdriver.Chrome(service=ChromeService(ChromeDriverManager().install()))\n",
    "\n",
    "sleep(1.5)\n",
    "url = 'https://www.linkedin.com/checkpoint/lg/sign-in-another-account'\n",
    "driver.get(url)\n",
    "print('- Finish initializing a driver')\n",
    "sleep(1.5)\n",
    "\n",
    "password = \"prodn123\"\n",
    "username = \"skytdv123@gmail.com\"\n",
    "print('- Finish importing the login credentials')\n",
    "sleep(1.5)\n",
    "\n",
    "email_field = driver.find_element(by=By.ID, value=\"username\")\n",
    "email_field.send_keys(username)\n",
    "print('- Finish keying in email')\n",
    "sleep(1.5)\n",
    "\n",
    "password_field = driver.find_element(by=By.NAME, value=\"session_password\")\n",
    "password_field.send_keys(password)\n",
    "password_field.send_keys\n",
    "print('- Finish keying in password')\n",
    "sleep(1.5)\n",
    "\n",
    "signin_field = driver.find_element(by=By.XPATH, value='//*[@id=\"organic-div\"]/form/div[3]/button')\n",
    "signin_field.click()\n",
    "print('- Finish Task: Login to Linkedin')\n",
    "sleep(3)\n",
    "#endregion\n",
    "\n",
    "\n",
    "#region CRAWL PROFILE URL FROM CONNECTIONS\n",
    "\n",
    "#visit connections page\n",
    "sleep(1)\n",
    "my_network_btn = driver.find_element(By.XPATH, value='//*[@id=\"global-nav\"]/div/nav/ul/li[2]/a')\n",
    "wait = WebDriverWait(driver, 10)\n",
    "wait.until(EC.element_to_be_clickable(my_network_btn))\n",
    "my_network_btn.click()\n",
    "\n",
    "sleep(1)\n",
    "connections_btn = driver.find_element(By.XPATH, value='//*[@id=\"root\"]/div[3]/div[2]/div/div/div/section/div/div/section[1]/div/nav/ul/li[1]/a')\n",
    "wait = WebDriverWait(driver, 10)\n",
    "wait.until(EC.element_to_be_clickable(connections_btn))\n",
    "connections_btn.click()\n",
    "\n",
    "#scroll loop\n",
    "while True:\n",
    "        driver.execute_script('window.scrollTo(0, document.body.scrollHeight);')\n",
    "        sleep(2)\n",
    "        \n",
    "        check_showmore = False\n",
    "        try:\n",
    "            element = driver.find_element(By.CLASS_NAME, value='''artdeco-button artdeco-button--muted artdeco-button--1 artdeco-button--full artdeco-button--secondary ember-view scaffold-finite-scroll__load-button''')\n",
    "            check_showmore = True\n",
    "\n",
    "        except NoSuchElementException as e:\n",
    "            check_showmore = False\n",
    "            pass\n",
    "\n",
    "        if check_showmore:\n",
    "            driver.execute_script('window.scrollTo(document.body.scrollHeight, 0);')\n",
    "            driver.execute_script('window.scrollTo(0, document.body.scrollHeight);')\n",
    "\n",
    "        if is_bottom_of_page(driver):\n",
    "            print(\"Reached the bottom of the page.\")\n",
    "            break\n",
    "\n",
    "\n",
    "URLs = GetURL(driver)\n",
    "#endregion\n"
   ]
  },
  {
   "cell_type": "code",
   "execution_count": 22,
   "metadata": {},
   "outputs": [],
   "source": [
    "def GetContactInfo(driver):\n",
    "    try:\n",
    "        sleep(1)\n",
    "        a_contact_info = driver.find_element(By.ID, value='''top-card-text-details-contact-info''')\n",
    "        wait = WebDriverWait(driver, 10)\n",
    "        wait.until(EC.element_to_be_clickable(a_contact_info))\n",
    "        a_contact_info.click()\n",
    "\n",
    "        #get contact info source\n",
    "        # div_profile_section = driver.find_element(By.CLASS_NAME, value='''pv-profile-section__section-info section-info''')\n",
    "        div_profile_section = driver.find_element(By.XPATH, value='''/html/body/div[4]/div/div/div[2]/section/div''')\n",
    "        div_profile_section_source = div_profile_section.get_attribute('outerHTML')\n",
    "        return div_profile_section\n",
    "    except NoSuchElementException as e:\n",
    "        print(e)\n",
    "    "
   ]
  },
  {
   "cell_type": "code",
   "execution_count": 53,
   "metadata": {},
   "outputs": [
    {
     "name": "stdout",
     "output_type": "stream",
     "text": [
      "- Finish initializing a driver\n",
      "- Finish importing the login credentials\n",
      "- Finish keying in email\n",
      "- Finish keying in password\n",
      "- Finish Task: Login to Linkedin\n"
     ]
    }
   ],
   "source": [
    "#region LOGIN LINKEDIN\n",
    "driver = webdriver.Chrome(service=ChromeService(ChromeDriverManager().install()))\n",
    "\n",
    "sleep(1.5)\n",
    "url = 'https://www.linkedin.com/checkpoint/lg/sign-in-another-account'\n",
    "driver.get(url)\n",
    "print('- Finish initializing a driver')\n",
    "sleep(1.5)\n",
    "\n",
    "password = \"prodn123\"\n",
    "username = \"skytdv123@gmail.com\"\n",
    "print('- Finish importing the login credentials')\n",
    "sleep(1.5)\n",
    "\n",
    "email_field = driver.find_element(by=By.ID, value=\"username\")\n",
    "email_field.send_keys(username)\n",
    "print('- Finish keying in email')\n",
    "sleep(1.5)\n",
    "\n",
    "password_field = driver.find_element(by=By.NAME, value=\"session_password\")\n",
    "password_field.send_keys(password)\n",
    "password_field.send_keys\n",
    "print('- Finish keying in password')\n",
    "sleep(1.5)\n",
    "\n",
    "signin_field = driver.find_element(by=By.XPATH, value='//*[@id=\"organic-div\"]/form/div[3]/button')\n",
    "signin_field.click()\n",
    "print('- Finish Task: Login to Linkedin')\n",
    "sleep(3)\n",
    "#endregion\n",
    "\n",
    "#region CRAWL PROFILE DATA\n",
    "sleep(3)\n",
    "url = 'https://www.linkedin.com/in/trieuchinh/'\n",
    "driver.get(url)\n",
    "\n",
    "# #endregion"
   ]
  },
  {
   "cell_type": "code",
   "execution_count": 54,
   "metadata": {},
   "outputs": [],
   "source": [
    "def get_contact_info(driver):\n",
    "    try:\n",
    "        sleep(1)\n",
    "        a_contact_info = driver.find_element(By.ID, value='''top-card-text-details-contact-info''')\n",
    "        wait = WebDriverWait(driver, 10)\n",
    "        wait.until(EC.element_to_be_clickable(a_contact_info))\n",
    "        a_contact_info.click()\n",
    "\n",
    "        #get contact info source\n",
    "        sleep(1.5)\n",
    "        # div_profile_section = driver.find_element(By.CLASS_NAME, value='''pv-profile-section__section-info section-info''')\n",
    "        div_profile_section = driver.find_element(By.XPATH, value='''/html/body/div[4]/div/div/div[2]/section/div''')\n",
    "        div_profile_section_source = BeautifulSoup(div_profile_section.get_attribute('outerHTML'),'html.parser')\n",
    "        h3_tags = div_profile_section_source.find_all('h3')\n",
    "        h3_text = [tag.text.strip() for tag in h3_tags]\n",
    "        a_tags = div_profile_section_source.find_all('a')\n",
    "        a_text = [tag.text.strip() for tag in a_tags]\n",
    "        span_tags = div_profile_section_source.find_all('span')\n",
    "        span_text = [tag.text.strip() for tag in span_tags]\n",
    "        \n",
    "        return {\n",
    "            'h3_tag_text': h3_text,\n",
    "            'a_tag_text': a_text,\n",
    "            'span_tang_text': span_text\n",
    "        }\n",
    "    except NoSuchElementException as e:\n",
    "        print(e)"
   ]
  },
  {
   "cell_type": "code",
   "execution_count": 51,
   "metadata": {},
   "outputs": [],
   "source": [
    "def get_experience(driver: webdriver):\n",
    "    sleep(1)\n",
    "    exp_list = []\n",
    "    main_element = driver.find_element(By.CLASS_NAME, value='scaffold-layout__main')\n",
    "    main_element_source = BeautifulSoup(main_element.get_attribute('outerHTML'),'html.parser')\n",
    "    sections = main_element_source.select('section.artdeco-card')\n",
    "    for i in range(1,len(sections)):\n",
    "        head = [tag.text.strip() for tag in sections[i].select('span.visually-hidden')][0]\n",
    "        if head == 'Experience':\n",
    "            section_number = i+1\n",
    "            ul_element = driver.find_element(By.XPATH, value=f'//*[@id=\"profile-content\"]/div/div[2]/div/div/main/section[{section_number}]/div[3]/ul')\n",
    "            ul_element_source = BeautifulSoup(ul_element.get_attribute('outerHTML'),'html.parser')\n",
    "            number_of_li = len(ul_element_source.find_all('li',class_='artdeco-list__item'))\n",
    "            for j in range(number_of_li):\n",
    "                li_number = j+1\n",
    "                li_element_i = driver.find_element(By.XPATH, value=f'//*[@id=\"profile-content\"]/div/div[2]/div/div/main/section[{section_number}]/div[3]/ul/li[{li_number}]/div/div[2]/div[1]')\n",
    "                li_element_i_source = BeautifulSoup(li_element_i.get_attribute('outerHTML'),'html.parser')\n",
    "                span_tags = li_element_i_source.find_all('span', class_='visually-hidden')\n",
    "                span_text = [tag.text.strip() for tag in span_tags]\n",
    "                exp_list.append(span_text)\n",
    "\n",
    "    return exp_list\n"
   ]
  },
  {
   "cell_type": "code",
   "execution_count": 52,
   "metadata": {},
   "outputs": [],
   "source": [
    "exp_list = get_experience(driver)"
   ]
  },
  {
   "cell_type": "code",
   "execution_count": 58,
   "metadata": {},
   "outputs": [
    {
     "data": {
      "text/plain": [
       "[['Senior Software Engineer',\n",
       "  'Axon · Full-time',\n",
       "  'Jul 2022 to Sep 2024 · 2 yrs 3 mos'],\n",
       " ['Senior .NET Engineer',\n",
       "  'MCB Vietnam · Full-time',\n",
       "  'Aug 2017 to Jul 2022 · 5 yrs',\n",
       "  'Hanoi, Hanoi, Vietnam'],\n",
       " ['Software Developer',\n",
       "  'Optimizely Vietnam',\n",
       "  'May 2016 to 2017 · 9 mos',\n",
       "  'Ha Noi'],\n",
       " ['Software Developer', 'Vinecom', '2014 to May 2016 · 2 yrs 5 mos', 'Ha Noi']]"
      ]
     },
     "execution_count": 58,
     "metadata": {},
     "output_type": "execute_result"
    }
   ],
   "source": [
    "exp_list"
   ]
  },
  {
   "cell_type": "code",
   "execution_count": 55,
   "metadata": {},
   "outputs": [],
   "source": [
    "contact_info = get_contact_info(driver)"
   ]
  },
  {
   "cell_type": "code",
   "execution_count": 57,
   "metadata": {},
   "outputs": [
    {
     "data": {
      "text/plain": [
       "{'h3_tag_text': ['Chinh’s Profile',\n",
       "  'Address',\n",
       "  'Email',\n",
       "  'IM',\n",
       "  'Connected',\n",
       "  'Get up to 4.6x replies when you message with InMail'],\n",
       " 'a_tag_text': ['linkedin.com/in/trieuchinh',\n",
       "  'Ha Noi',\n",
       "  'trieuchinh@gmail.com',\n",
       "  'Try Premium for ₫0'],\n",
       " 'span_tang_text': ['chinhtrieu2512', '(Skype)', 'May 26, 2021']}"
      ]
     },
     "execution_count": 57,
     "metadata": {},
     "output_type": "execute_result"
    }
   ],
   "source": [
    "contact_info"
   ]
  },
  {
   "cell_type": "markdown",
   "metadata": {},
   "source": [
    "# asdasd"
   ]
  },
  {
   "cell_type": "code",
   "execution_count": 54,
   "metadata": {},
   "outputs": [],
   "source": [
    "ul_exp_source = BeautifulSoup(ul_exp_htlm, 'html.parser')"
   ]
  },
  {
   "cell_type": "code",
   "execution_count": 59,
   "metadata": {},
   "outputs": [],
   "source": [
    "li_exp_list = ul_exp_source.find_all('li',class_='artdeco-list__item')\n"
   ]
  },
  {
   "cell_type": "code",
   "execution_count": 64,
   "metadata": {},
   "outputs": [],
   "source": [
    "exp_list = []\n",
    "for i in range(len(li_exp_list)):\n",
    "    try:\n",
    "        li_exp_i = driver.find_element(By.XPATH, value=f'''//*[@id=\"profile-content\"]/div/div[2]/div/div/main/section[4]/div[3]/ul/li[{i+1}]/div/div[2]/div[1]''')\n",
    "        li_exp_i_source = BeautifulSoup(li_exp_i.get_attribute('outerHTML'), 'html.parser')\n",
    "        span_tag = li_exp_i_source.find_all('span', class_='visually-hidden')\n",
    "        exp_list.append([tag.text for tag in span_tag])\n",
    "    except NoSuchElementException as e:\n",
    "        print(\"NoSuchElementException\")"
   ]
  },
  {
   "cell_type": "code",
   "execution_count": 65,
   "metadata": {},
   "outputs": [
    {
     "data": {
      "text/plain": [
       "[['Senior Software Engineer',\n",
       "  'Axon · Full-time',\n",
       "  'Jul 2022 to Sep 2024 · 2 yrs 3 mos'],\n",
       " ['Senior .NET Engineer',\n",
       "  'MCB Vietnam · Full-time',\n",
       "  'Aug 2017 to Jul 2022 · 5 yrs',\n",
       "  'Hanoi, Hanoi, Vietnam'],\n",
       " ['Software Developer',\n",
       "  'Optimizely Vietnam',\n",
       "  'May 2016 to 2017 · 9 mos',\n",
       "  'Ha Noi'],\n",
       " ['Software Developer', 'Vinecom', '2014 to May 2016 · 2 yrs 5 mos', 'Ha Noi']]"
      ]
     },
     "execution_count": 65,
     "metadata": {},
     "output_type": "execute_result"
    }
   ],
   "source": [
    "exp_list"
   ]
  },
  {
   "cell_type": "code",
   "execution_count": 60,
   "metadata": {},
   "outputs": [],
   "source": [
    "li_exp_i_html = '''<div class=\"display-flex flex-row justify-space-between\"> <div class=\" display-flex flex-column full-width\"> <div class=\"display-flex flex-wrap align-items-center full-height\"> <div class=\"display-flex \"> <div class=\" display-flex full-width\"> <div class=\"display-flex align-items-center mr1 t-bold\"> <span aria-hidden=\"true\"><!---->Senior .NET Engineer<!----></span><span class=\"visually-hidden\"><!---->Senior .NET Engineer<!----></span> </div> </div> </div> <!----><!----><!---->            </div> <span class=\"t-14 t-normal\"> <span aria-hidden=\"true\"><!---->MCB Vietnam · Full-time<!----></span><span class=\"visually-hidden\"><!---->MCB Vietnam · Full-time<!----></span> </span> <span class=\"t-14 t-normal t-black--light\"> <span class=\"pvs-entity__caption-wrapper\" aria-hidden=\"true\"><!---->Aug 2017 - Jul 2022 · 5 yrs<!----></span><span class=\"visually-hidden\"><!---->Aug 2017 to Jul 2022 · 5 yrs<!----></span> </span> <span class=\"t-14 t-normal t-black--light\"> <span aria-hidden=\"true\"><!---->Hanoi, Hanoi, Vietnam<!----></span><span class=\"visually-hidden\"><!---->Hanoi, Hanoi, Vietnam<!----></span> </span> </div> <!---->        </div>'''"
   ]
  },
  {
   "cell_type": "code",
   "execution_count": 62,
   "metadata": {},
   "outputs": [
    {
     "data": {
      "text/plain": [
       "['Senior .NET Engineer',\n",
       " 'MCB Vietnam · Full-time',\n",
       " 'Aug 2017 to Jul 2022 · 5 yrs',\n",
       " 'Hanoi, Hanoi, Vietnam']"
      ]
     },
     "execution_count": 62,
     "metadata": {},
     "output_type": "execute_result"
    }
   ],
   "source": [
    "li_exp_i_source = BeautifulSoup(li_exp_i_html, 'html.parser')\n",
    "span_tag = li_exp_i_source.find_all('span', class_='visually-hidden')\n",
    "[tag.text for tag in span_tag]"
   ]
  },
  {
   "cell_type": "code",
   "execution_count": null,
   "metadata": {},
   "outputs": [],
   "source": [
    "URLs"
   ]
  },
  {
   "cell_type": "code",
   "execution_count": null,
   "metadata": {},
   "outputs": [],
   "source": [
    "# Task 4: Scrape the data of 1 Linkedin profile, and write the data to a .CSV file\n",
    "\n",
    "with open('output.csv', 'w',  newline = '') as file_output:\n",
    "    headers = ['Name', 'Job Title', 'Location', 'URL']\n",
    "    writer = csv.DictWriter(file_output, delimiter=',', lineterminator='\\n',fieldnames=headers)\n",
    "    writer.writeheader()\n",
    "    for linkedin_URL in URLs_one_page:\n",
    "        driver.get(linkedin_URL)\n",
    "        print('- Accessing profile: ', linkedin_URL)\n",
    "\n",
    "        page_source = BeautifulSoup(driver.page_source, \"html.parser\")\n",
    "\n",
    "        info_div = page_source.find('div',{'class':'flex-1 mr5'})\n",
    "        info_loc = info_div.find_all('ul')\n",
    "        name = info_loc[0].find('li').get_text().strip() #Remove unnecessary characters \n",
    "        print('--- Profile name is: ', name)\n",
    "        location = info_loc[1].find('li').get_text().strip() #Remove unnecessary characters \n",
    "        print('--- Profile location is: ', location)\n",
    "        title = info_div.find('h2').get_text().strip()\n",
    "        print('--- Profile title is: ', title)\n",
    "        writer.writerow({headers[0]:name, headers[1]:location, headers[2]:title, headers[3]:linkedin_URL})\n",
    "        print('\\n')\n",
    "\n",
    "print('Mission Completed!')"
   ]
  },
  {
   "cell_type": "code",
   "execution_count": null,
   "metadata": {},
   "outputs": [],
   "source": []
  },
  {
   "cell_type": "code",
   "execution_count": 72,
   "metadata": {},
   "outputs": [],
   "source": [
    "profile_section_html = '''<div class=\"pv-profile-section__section-info section-info\" tabindex=\"-1\"> <section class=\"pv-contact-info__contact-type\"> <svg role=\"none\" aria-hidden=\"true\" class=\"pv-contact-info__contact-icon\" xmlns=\"http://www.w3.org/2000/svg\" width=\"24\" height=\"24\" viewBox=\"0 0 24 24\" data-supported-dps=\"24x24\" data-test-icon=\"linkedin-bug-medium\"> <!----> <use href=\"#linkedin-bug-medium\" width=\"24\" height=\"24\"></use> </svg> <h3 class=\"pv-contact-info__header t-16 t-black t-bold\"> Hassam’s Profile </h3> <div class=\"LglSCilTZUxfLnvGgROkzwUOBAbgQsSZXrLgs t-14\"> <a href=\"https://www.linkedin.com/in/hassam-creative-designer\" class=\"NWWvAvGgVymyQEAHxoheCYisLPQsBRbROplyFE link-without-visited-state t-14\"> linkedin.com/in/hassam-creative-designer </a> </div> </section> <section class=\"pv-contact-info__contact-type\"> <svg role=\"none\" aria-hidden=\"true\" class=\"pv-contact-info__contact-icon\" xmlns=\"http://www.w3.org/2000/svg\" width=\"24\" height=\"24\" viewBox=\"0 0 24 24\" data-supported-dps=\"24x24\" data-test-icon=\"link-medium\"> <!----> <use href=\"#link-medium\" width=\"24\" height=\"24\"></use> </svg> <h3 class=\"pv-contact-info__header t-16 t-black t-bold\"> Website </h3> <ul class=\"list-style-none\"> <li class=\"LglSCilTZUxfLnvGgROkzwUOBAbgQsSZXrLgs link t-14\"> <a href=\"https://betahtech.com/\" class=\"pv-contact-info__contact-link link-without-visited-state\" target=\"_blank\" rel=\"noopener noreferrer\"> betahtech.com/ </a> <span class=\"t-14 t-black--light t-normal\"> (Company) </span> </li> </ul> </section> <section class=\"pv-contact-info__contact-type\"> <svg role=\"none\" aria-hidden=\"true\" class=\"pv-contact-info__contact-icon\" xmlns=\"http://www.w3.org/2000/svg\" width=\"24\" height=\"24\" viewBox=\"0 0 24 24\" data-supported-dps=\"24x24\" data-test-icon=\"phone-handset-medium\"> <!----> <use href=\"#phone-handset-medium\" width=\"24\" height=\"24\"></use> </svg> <h3 class=\"pv-contact-info__header t-16 t-black t-bold\"> Phone </h3> <ul class=\"list-style-none\"> <li class=\"LglSCilTZUxfLnvGgROkzwUOBAbgQsSZXrLgs t-14\"> <span class=\"t-14 t-black t-normal\"> +92 302 5154981 </span> <span class=\"t-14 t-black--light t-normal\"> (Mobile) </span> </li> </ul> </section> <section class=\"pv-contact-info__contact-type\"> <svg role=\"none\" aria-hidden=\"true\" class=\"pv-contact-info__contact-icon\" xmlns=\"http://www.w3.org/2000/svg\" width=\"24\" height=\"24\" viewBox=\"0 0 24 24\" data-supported-dps=\"24x24\" data-test-icon=\"location-marker-medium\"> <!----> <use href=\"#location-marker-medium\" width=\"24\" height=\"24\"></use> </svg> <h3 class=\"pv-contact-info__header t-16 t-black t-bold\"> Address </h3> <div class=\"LglSCilTZUxfLnvGgROkzwUOBAbgQsSZXrLgs t-14\"> <a href=\"http://maps.apple.com/?address=Fateh Jang Islamabad\" class=\"NWWvAvGgVymyQEAHxoheCYisLPQsBRbROplyFE link-without-visited-state t-14\" target=\"_blank\" rel=\"noopener noreferrer\"> Fateh Jang Islamabad </a> </div> </section> <section class=\"pv-contact-info__contact-type\"> <svg role=\"none\" aria-hidden=\"true\" class=\"pv-contact-info__contact-icon\" xmlns=\"http://www.w3.org/2000/svg\" width=\"24\" height=\"24\" viewBox=\"0 0 24 24\" data-supported-dps=\"24x24\" data-test-icon=\"envelope-medium\"> <!----> <use href=\"#envelope-medium\" width=\"24\" height=\"24\"></use> </svg> <h3 class=\"pv-contact-info__header t-16 t-black t-bold\"> Email </h3> <div class=\"LglSCilTZUxfLnvGgROkzwUOBAbgQsSZXrLgs t-14\"> <a href=\"mailto:hhassam881@gmail.com\" class=\"NWWvAvGgVymyQEAHxoheCYisLPQsBRbROplyFE link-without-visited-state t-14\" target=\"_blank\" rel=\"noopener noreferrer\"> hhassam881@gmail.com </a> </div> </section> <!----> <section class=\"pv-contact-info__contact-type\"> <svg role=\"none\" aria-hidden=\"true\" class=\"pv-contact-info__contact-icon\" xmlns=\"http://www.w3.org/2000/svg\" width=\"24\" height=\"24\" viewBox=\"0 0 24 24\" data-supported-dps=\"24x24\" data-test-icon=\"comment-medium\"> <!----> <use href=\"#comment-medium\" width=\"24\" height=\"24\"></use> </svg> <h3 class=\"pv-contact-info__header t-16 t-black t-bold\"> IM </h3> <ul class=\"list-style-none\"> <li class=\"LglSCilTZUxfLnvGgROkzwUOBAbgQsSZXrLgs t-14\"> <span class=\"hlHKRbcMMBNYLoiDXuzknQNemdWjygVMpI t-14 t-black t-normal\"> Hassam </span> <span class=\"t-14 t-black--light t-normal\"> (Skype) </span> </li> </ul> </section> <!----> <section class=\"pv-contact-info__contact-type\"> <svg role=\"none\" aria-hidden=\"true\" class=\"pv-contact-info__contact-icon\" xmlns=\"http://www.w3.org/2000/svg\" width=\"24\" height=\"24\" viewBox=\"0 0 24 24\" data-supported-dps=\"24x24\" data-test-icon=\"people-medium\"> <!----> <use href=\"#people-medium\" width=\"24\" height=\"24\"></use> </svg> <h3 class=\"pv-contact-info__header t-16 t-black t-bold\"> Connected </h3> <div class=\"LglSCilTZUxfLnvGgROkzwUOBAbgQsSZXrLgs t-14\"> <span class=\"hlHKRbcMMBNYLoiDXuzknQNemdWjygVMpI t-14 t-black t-normal\"> Jul 8, 2024 </span> </div> </section> <div class=\"mt5 display-flex align-items-center \"> <div class=\"display-flex \"> <!---->        <div class=\" \"> <h3 class=\"text-heading-medium card-upsell-v2__headline\"> Get up to 4.6x replies when you message with InMail </h3> <p class=\"card-upsell-v2__subheader t-14\"> Message Hassam with InMail credits and write your own message or generate a message draft with the help of AI. </p> <!----> <div class=\"card-upsell-v2__social-proof display-flex align-items-flex-start \"> <div class=\"ivm-image-view-model   \"> <ul class=\"ivm-image-view-model__img-list--stacked list-style-none display-flex justify-center\"> <li class=\"ivm-image-view-model__img-list-item--stacked\"> <div class=\"ivm-view-attr__img-wrapper \"> <!----> <!---->          <img width=\"32\" src=\"https://media.licdn.com/dms/image/v2/D5635AQEevSx4g1SxAA/profile-framedphoto-shrink_100_100/profile-framedphoto-shrink_100_100/0/1728380077095?e=1732611600&amp;v=beta&amp;t=vmbQRjPVYCrQw7QAfz6ASibcT_Us8vVmZB_Dtnxu3Yk\" loading=\"lazy\" height=\"32\" alt=\"\" id=\"ember4080\" class=\"ivm-view-attr__img--centered ivm-view-attr__img--stacked ivm-view-attr__img--stacked-circle-size-1 EntityPhoto-circle-1-stackedFacepile   evi-image lazy-image ember-view\"> </div> </li> <li class=\"ivm-image-view-model__img-list-item--stacked\"> <div class=\"ivm-view-attr__img-wrapper \"> <!----> <!---->          <img width=\"32\" src=\"https://media.licdn.com/dms/image/v2/D5603AQHGVGij0FPzIA/profile-displayphoto-shrink_100_100/profile-displayphoto-shrink_100_100/0/1675679361489?e=1737590400&amp;v=beta&amp;t=5yC7zFfhbBkqsHrq74v6YI2suRoeNQrzgkB4qlU76Kg\" loading=\"lazy\" height=\"32\" alt=\"\" id=\"ember4081\" class=\"ivm-view-attr__img--centered ivm-view-attr__img--stacked ivm-view-attr__img--stacked-circle-size-1 EntityPhoto-circle-1-stackedFacepile   evi-image lazy-image ember-view\"> </div> </li> <li class=\"ivm-image-view-model__img-list-item--stacked\"> <div class=\"ivm-view-attr__img-wrapper \"> <!----> <!---->          <img width=\"32\" src=\"https://media.licdn.com/dms/image/v2/C5603AQEF9mUP3ZdoPg/profile-displayphoto-shrink_100_100/profile-displayphoto-shrink_100_100/0/1537284961206?e=1737590400&amp;v=beta&amp;t=LO7Ie4IilQETPZXkPh4YZ6n_sbPCXoTBi98Ca-MRCrg\" loading=\"lazy\" height=\"32\" alt=\"\" id=\"ember4082\" class=\"ivm-view-attr__img--centered ivm-view-attr__img--stacked ivm-view-attr__img--stacked-circle-size-1 EntityPhoto-circle-1-stackedFacepile   evi-image lazy-image ember-view\"> </div> </li> </ul> <!---->    </div> <p class=\"card-upsell-v2__social-proof-text t-12 t-black--light align-self-center\"> <!---->Ben and millions of other members use Premium<!----> </p> </div> <a class=\"app-aware-link  artdeco-button artdeco-button--premium artdeco-button--secondary \" href=\"https://www.linkedin.com/premium/products/?upsellOrderOrigin=profile_contact_info_upsell&amp;premiumFeatureType=INMAIL&amp;referenceId=KKTFAWhXROqn91h1GtO%2BhA%3D%3D&amp;destRedirectURL=https%3A%2F%2Fwww.linkedin.com%2Fin%2Fhassam-creative-designer%2Foverlay%2Fcontact-info%2F\" data-test-app-aware-link=\"\"> Try Premium for ₫0 </a> <p class=\"text-body-xsmall card-upsell-v2__subtext\"> 1 month free with round-the-clock support. Cancel anytime. We’ll send you a reminder 7 days before your trial ends. </p> </div> </div> <!---->    </div> </div>'''"
   ]
  },
  {
   "cell_type": "code",
   "execution_count": 73,
   "metadata": {},
   "outputs": [],
   "source": [
    "profile_section_source = BeautifulSoup(profile_section_html, 'html.parser')"
   ]
  },
  {
   "cell_type": "code",
   "execution_count": 74,
   "metadata": {},
   "outputs": [
    {
     "data": {
      "text/plain": [
       "[<h3 class=\"pv-contact-info__header t-16 t-black t-bold\"> Hassam’s Profile </h3>,\n",
       " <h3 class=\"pv-contact-info__header t-16 t-black t-bold\"> Website </h3>,\n",
       " <h3 class=\"pv-contact-info__header t-16 t-black t-bold\"> Phone </h3>,\n",
       " <h3 class=\"pv-contact-info__header t-16 t-black t-bold\"> Address </h3>,\n",
       " <h3 class=\"pv-contact-info__header t-16 t-black t-bold\"> Email </h3>,\n",
       " <h3 class=\"pv-contact-info__header t-16 t-black t-bold\"> IM </h3>,\n",
       " <h3 class=\"pv-contact-info__header t-16 t-black t-bold\"> Connected </h3>,\n",
       " <h3 class=\"text-heading-medium card-upsell-v2__headline\"> Get up to 4.6x replies when you message with InMail </h3>]"
      ]
     },
     "execution_count": 74,
     "metadata": {},
     "output_type": "execute_result"
    }
   ],
   "source": [
    "profile_section_source.find_all('h3')"
   ]
  },
  {
   "cell_type": "code",
   "execution_count": 78,
   "metadata": {},
   "outputs": [
    {
     "data": {
      "text/plain": [
       "[<span class=\"t-14 t-black t-normal\"> +92 302 5154981 </span>]"
      ]
     },
     "execution_count": 78,
     "metadata": {},
     "output_type": "execute_result"
    }
   ],
   "source": [
    "profile_section_source.find_all('span', class_= \"t-14 t-black t-normal\")"
   ]
  },
  {
   "cell_type": "code",
   "execution_count": 80,
   "metadata": {},
   "outputs": [
    {
     "data": {
      "text/plain": [
       "[<span class=\"t-14 t-black t-normal\"> +92 302 5154981 </span>,\n",
       " <span class=\"hlHKRbcMMBNYLoiDXuzknQNemdWjygVMpI t-14 t-black t-normal\"> Hassam </span>,\n",
       " <span class=\"hlHKRbcMMBNYLoiDXuzknQNemdWjygVMpI t-14 t-black t-normal\"> Jul 8, 2024 </span>]"
      ]
     },
     "execution_count": 80,
     "metadata": {},
     "output_type": "execute_result"
    }
   ],
   "source": [
    "profile_section_source.select('span.t-14.t-black.t-normal')"
   ]
  },
  {
   "cell_type": "code",
   "execution_count": 81,
   "metadata": {},
   "outputs": [
    {
     "data": {
      "text/plain": [
       "[<a class=\"NWWvAvGgVymyQEAHxoheCYisLPQsBRbROplyFE link-without-visited-state t-14\" href=\"https://www.linkedin.com/in/hassam-creative-designer\"> linkedin.com/in/hassam-creative-designer </a>,\n",
       " <a class=\"pv-contact-info__contact-link link-without-visited-state\" href=\"https://betahtech.com/\" rel=\"noopener noreferrer\" target=\"_blank\"> betahtech.com/ </a>,\n",
       " <a class=\"NWWvAvGgVymyQEAHxoheCYisLPQsBRbROplyFE link-without-visited-state t-14\" href=\"http://maps.apple.com/?address=Fateh Jang Islamabad\" rel=\"noopener noreferrer\" target=\"_blank\"> Fateh Jang Islamabad </a>,\n",
       " <a class=\"NWWvAvGgVymyQEAHxoheCYisLPQsBRbROplyFE link-without-visited-state t-14\" href=\"mailto:hhassam881@gmail.com\" rel=\"noopener noreferrer\" target=\"_blank\"> hhassam881@gmail.com </a>,\n",
       " <a class=\"app-aware-link artdeco-button artdeco-button--premium artdeco-button--secondary\" data-test-app-aware-link=\"\" href=\"https://www.linkedin.com/premium/products/?upsellOrderOrigin=profile_contact_info_upsell&amp;premiumFeatureType=INMAIL&amp;referenceId=KKTFAWhXROqn91h1GtO%2BhA%3D%3D&amp;destRedirectURL=https%3A%2F%2Fwww.linkedin.com%2Fin%2Fhassam-creative-designer%2Foverlay%2Fcontact-info%2F\"> Try Premium for ₫0 </a>]"
      ]
     },
     "execution_count": 81,
     "metadata": {},
     "output_type": "execute_result"
    }
   ],
   "source": [
    "profile_section_source.find_all('a')"
   ]
  },
  {
   "cell_type": "code",
   "execution_count": null,
   "metadata": {},
   "outputs": [],
   "source": []
  }
 ],
 "metadata": {
  "kernelspec": {
   "display_name": "Python 3",
   "language": "python",
   "name": "python3"
  },
  "language_info": {
   "codemirror_mode": {
    "name": "ipython",
    "version": 3
   },
   "file_extension": ".py",
   "mimetype": "text/x-python",
   "name": "python",
   "nbconvert_exporter": "python",
   "pygments_lexer": "ipython3",
   "version": "3.12.2"
  }
 },
 "nbformat": 4,
 "nbformat_minor": 4
}
