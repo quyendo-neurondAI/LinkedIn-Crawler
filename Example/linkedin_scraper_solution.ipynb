{
 "cells": [
  {
   "cell_type": "code",
   "execution_count": 38,
   "metadata": {},
   "outputs": [
    {
     "name": "stdout",
     "output_type": "stream",
     "text": [
      "- Finish importing packages\n"
     ]
    }
   ],
   "source": [
    "# Import libraries and packages for the project\n",
    "from webdriver_manager.chrome import ChromeDriverManager\n",
    "\n",
    "from selenium import webdriver\n",
    "from selenium.webdriver.chrome.service import Service as ChromeService\n",
    "from selenium.webdriver.support.wait import WebDriverWait\n",
    "from selenium.webdriver.support import expected_conditions as EC\n",
    "from selenium.webdriver.common.keys import Keys\n",
    "from selenium.webdriver.common.by import By\n",
    "from selenium.common.exceptions import NoSuchElementException\n",
    "\n",
    "from bs4 import BeautifulSoup\n",
    "from time import sleep\n",
    "import re\n",
    "\n",
    "import csv\n",
    "print('- Finish importing packages')"
   ]
  },
  {
   "cell_type": "code",
   "execution_count": null,
   "metadata": {},
   "outputs": [],
   "source": []
  },
  {
   "cell_type": "code",
   "execution_count": 18,
   "metadata": {},
   "outputs": [],
   "source": [
    "def is_bottom_of_page(driver):\n",
    "    # Get the current scroll position and the total scrollable height\n",
    "    current_scroll_position = driver.execute_script(\"return window.pageYOffset + window.innerHeight;\")\n",
    "    total_scroll_height = driver.execute_script(\"return document.body.scrollHeight;\")\n",
    "    return current_scroll_position >= total_scroll_height\n",
    "\n",
    "def GetURL(driver):\n",
    "    page_source = BeautifulSoup(driver.page_source)\n",
    "    profiles = page_source.find_all('a', class_ = 'ember-view mn-connection-card__link')\n",
    "    all_profile_URL = []\n",
    "    for profile in profiles:\n",
    "        profile_ID = profile.get('href')\n",
    "        profile_URL = \"https://www.linkedin.com\" + profile_ID\n",
    "        if profile_URL not in all_profile_URL:\n",
    "            all_profile_URL.append(profile_URL)\n",
    "    return all_profile_URL\n",
    "\n",
    "\n"
   ]
  },
  {
   "cell_type": "code",
   "execution_count": 10,
   "metadata": {},
   "outputs": [
    {
     "name": "stdout",
     "output_type": "stream",
     "text": [
      "- Finish initializing a driver\n",
      "- Finish importing the login credentials\n",
      "- Finish keying in email\n",
      "- Finish keying in password\n",
      "- Finish Task: Login to Linkedin\n",
      "Reached the bottom of the page.\n"
     ]
    }
   ],
   "source": [
    "#region LOGIN LINKEDIN\n",
    "driver = webdriver.Chrome(service=ChromeService(ChromeDriverManager().install()))\n",
    "\n",
    "sleep(1.5)\n",
    "url = 'https://www.linkedin.com/checkpoint/lg/sign-in-another-account'\n",
    "driver.get(url)\n",
    "print('- Finish initializing a driver')\n",
    "sleep(1.5)\n",
    "\n",
    "password = \"prodn123\"\n",
    "username = \"skytdv123@gmail.com\"\n",
    "print('- Finish importing the login credentials')\n",
    "sleep(1.5)\n",
    "\n",
    "email_field = driver.find_element(by=By.ID, value=\"username\")\n",
    "email_field.send_keys(username)\n",
    "print('- Finish keying in email')\n",
    "sleep(1.5)\n",
    "\n",
    "password_field = driver.find_element(by=By.NAME, value=\"session_password\")\n",
    "password_field.send_keys(password)\n",
    "password_field.send_keys\n",
    "print('- Finish keying in password')\n",
    "sleep(1.5)\n",
    "\n",
    "signin_field = driver.find_element(by=By.XPATH, value='//*[@id=\"organic-div\"]/form/div[3]/button')\n",
    "signin_field.click()\n",
    "print('- Finish Task: Login to Linkedin')\n",
    "sleep(3)\n",
    "#endregion\n",
    "\n",
    "\n",
    "#region CRAWL PROFILE URL FROM CONNECTIONS\n",
    "\n",
    "#visit connections page\n",
    "sleep(1)\n",
    "my_network_btn = driver.find_element(By.XPATH, value='//*[@id=\"global-nav\"]/div/nav/ul/li[2]/a')\n",
    "wait = WebDriverWait(driver, 10)\n",
    "wait.until(EC.element_to_be_clickable(my_network_btn))\n",
    "my_network_btn.click()\n",
    "\n",
    "sleep(1)\n",
    "connections_btn = driver.find_element(By.XPATH, value='//*[@id=\"root\"]/div[3]/div[2]/div/div/div/section/div/div/section[1]/div/nav/ul/li[1]/a')\n",
    "wait = WebDriverWait(driver, 10)\n",
    "wait.until(EC.element_to_be_clickable(connections_btn))\n",
    "connections_btn.click()\n",
    "\n",
    "#scroll loop\n",
    "while True:\n",
    "        driver.execute_script('window.scrollTo(0, document.body.scrollHeight);')\n",
    "        sleep(2)\n",
    "        \n",
    "        check_showmore = False\n",
    "        try:\n",
    "            element = driver.find_element(By.CLASS_NAME, value='''artdeco-button artdeco-button--muted artdeco-button--1 artdeco-button--full artdeco-button--secondary ember-view scaffold-finite-scroll__load-button''')\n",
    "            check_showmore = True\n",
    "\n",
    "        except NoSuchElementException as e:\n",
    "            check_showmore = False\n",
    "            pass\n",
    "\n",
    "        if check_showmore:\n",
    "            driver.execute_script('window.scrollTo(document.body.scrollHeight, 0);')\n",
    "            driver.execute_script('window.scrollTo(0, document.body.scrollHeight);')\n",
    "\n",
    "        if is_bottom_of_page(driver):\n",
    "            print(\"Reached the bottom of the page.\")\n",
    "            break\n",
    "\n",
    "\n",
    "URLs = GetURL(driver)\n",
    "#endregion\n"
   ]
  },
  {
   "cell_type": "code",
   "execution_count": 22,
   "metadata": {},
   "outputs": [],
   "source": [
    "def GetContactInfo(driver):\n",
    "    try:\n",
    "        sleep(1)\n",
    "        a_contact_info = driver.find_element(By.ID, value='''top-card-text-details-contact-info''')\n",
    "        wait = WebDriverWait(driver, 10)\n",
    "        wait.until(EC.element_to_be_clickable(a_contact_info))\n",
    "        a_contact_info.click()\n",
    "\n",
    "        #get contact info source\n",
    "        # div_profile_section = driver.find_element(By.CLASS_NAME, value='''pv-profile-section__section-info section-info''')\n",
    "        div_profile_section = driver.find_element(By.XPATH, value='''/html/body/div[4]/div/div/div[2]/section/div''')\n",
    "        div_profile_section_source = div_profile_section.get_attribute('outerHTML')\n",
    "        return div_profile_section\n",
    "    except NoSuchElementException as e:\n",
    "        print(e)\n",
    "    "
   ]
  },
  {
   "cell_type": "code",
   "execution_count": 24,
   "metadata": {},
   "outputs": [
    {
     "name": "stdout",
     "output_type": "stream",
     "text": [
      "- Finish initializing a driver\n",
      "- Finish importing the login credentials\n",
      "- Finish keying in email\n",
      "- Finish keying in password\n",
      "- Finish Task: Login to Linkedin\n"
     ]
    }
   ],
   "source": [
    "#region LOGIN LINKEDIN\n",
    "driver = webdriver.Chrome(service=ChromeService(ChromeDriverManager().install()))\n",
    "\n",
    "sleep(1.5)\n",
    "url = 'https://www.linkedin.com/checkpoint/lg/sign-in-another-account'\n",
    "driver.get(url)\n",
    "print('- Finish initializing a driver')\n",
    "sleep(1.5)\n",
    "\n",
    "password = \"prodn123\"\n",
    "username = \"skytdv123@gmail.com\"\n",
    "print('- Finish importing the login credentials')\n",
    "sleep(1.5)\n",
    "\n",
    "email_field = driver.find_element(by=By.ID, value=\"username\")\n",
    "email_field.send_keys(username)\n",
    "print('- Finish keying in email')\n",
    "sleep(1.5)\n",
    "\n",
    "password_field = driver.find_element(by=By.NAME, value=\"session_password\")\n",
    "password_field.send_keys(password)\n",
    "password_field.send_keys\n",
    "print('- Finish keying in password')\n",
    "sleep(1.5)\n",
    "\n",
    "signin_field = driver.find_element(by=By.XPATH, value='//*[@id=\"organic-div\"]/form/div[3]/button')\n",
    "signin_field.click()\n",
    "print('- Finish Task: Login to Linkedin')\n",
    "sleep(3)\n",
    "#endregion\n",
    "\n",
    "#region CRAWL PROFILE DATA\n",
    "sleep(3)\n",
    "url = 'https://www.linkedin.com/in/trieuchinh/'\n",
    "driver.get(url)\n",
    "\n",
    "# #endregion"
   ]
  },
  {
   "cell_type": "code",
   "execution_count": null,
   "metadata": {},
   "outputs": [],
   "source": [
    "try:\n",
    "    sleep(1)\n",
    "    a_contact_info = driver.find_element(By.ID, value='''top-card-text-details-contact-info''')\n",
    "    wait = WebDriverWait(driver, 10)\n",
    "    wait.until(EC.element_to_be_clickable(a_contact_info))\n",
    "    a_contact_info.click()\n",
    "\n",
    "    #get contact info source\n",
    "    sleep(1.5)\n",
    "    # div_profile_section = driver.find_element(By.CLASS_NAME, value='''pv-profile-section__section-info section-info''')\n",
    "    div_profile_section = driver.find_element(By.XPATH, value='''/html/body/div[4]/div/div/div[2]/section/div''')\n",
    "    div_profile_section_source = BeautifulSoup(div_profile_section.get_attribute('outerHTML'),'html.parser')\n",
    "    a_tags = div_profile_section_source.find_all('a')\n",
    "    a_text = [tag.text.strip() for tag in a_tags]\n",
    "    span_tags = div_profile_section_source.find_all('span')\n",
    "    span_text = [tag.text.strip() for tag in span_tags]\n",
    "    \n",
    "except NoSuchElementException as e:\n",
    "    print(e)"
   ]
  },
  {
   "cell_type": "code",
   "execution_count": 35,
   "metadata": {},
   "outputs": [],
   "source": [
    "div_profile_section_source = BeautifulSoup(div_profile_section_source)"
   ]
  },
  {
   "cell_type": "code",
   "execution_count": 54,
   "metadata": {},
   "outputs": [],
   "source": [
    "ul_exp_source = BeautifulSoup(ul_exp_htlm, 'html.parser')"
   ]
  },
  {
   "cell_type": "code",
   "execution_count": 59,
   "metadata": {},
   "outputs": [],
   "source": [
    "li_exp_list = ul_exp_source.find_all('li',class_='artdeco-list__item')\n"
   ]
  },
  {
   "cell_type": "code",
   "execution_count": 64,
   "metadata": {},
   "outputs": [],
   "source": [
    "exp_list = []\n",
    "for i in range(len(li_exp_list)):\n",
    "    try:\n",
    "        li_exp_i = driver.find_element(By.XPATH, value=f'''//*[@id=\"profile-content\"]/div/div[2]/div/div/main/section[4]/div[3]/ul/li[{i+1}]/div/div[2]/div[1]''')\n",
    "        li_exp_i_source = BeautifulSoup(li_exp_i.get_attribute('outerHTML'), 'html.parser')\n",
    "        span_tag = li_exp_i_source.find_all('span', class_='visually-hidden')\n",
    "        exp_list.append([tag.text for tag in span_tag])\n",
    "    except NoSuchElementException as e:\n",
    "        print(\"NoSuchElementException\")"
   ]
  },
  {
   "cell_type": "code",
   "execution_count": 65,
   "metadata": {},
   "outputs": [
    {
     "data": {
      "text/plain": [
       "[['Senior Software Engineer',\n",
       "  'Axon · Full-time',\n",
       "  'Jul 2022 to Sep 2024 · 2 yrs 3 mos'],\n",
       " ['Senior .NET Engineer',\n",
       "  'MCB Vietnam · Full-time',\n",
       "  'Aug 2017 to Jul 2022 · 5 yrs',\n",
       "  'Hanoi, Hanoi, Vietnam'],\n",
       " ['Software Developer',\n",
       "  'Optimizely Vietnam',\n",
       "  'May 2016 to 2017 · 9 mos',\n",
       "  'Ha Noi'],\n",
       " ['Software Developer', 'Vinecom', '2014 to May 2016 · 2 yrs 5 mos', 'Ha Noi']]"
      ]
     },
     "execution_count": 65,
     "metadata": {},
     "output_type": "execute_result"
    }
   ],
   "source": [
    "exp_list"
   ]
  },
  {
   "cell_type": "code",
   "execution_count": 60,
   "metadata": {},
   "outputs": [],
   "source": [
    "li_exp_i_html = '''<div class=\"display-flex flex-row justify-space-between\"> <div class=\" display-flex flex-column full-width\"> <div class=\"display-flex flex-wrap align-items-center full-height\"> <div class=\"display-flex \"> <div class=\" display-flex full-width\"> <div class=\"display-flex align-items-center mr1 t-bold\"> <span aria-hidden=\"true\"><!---->Senior .NET Engineer<!----></span><span class=\"visually-hidden\"><!---->Senior .NET Engineer<!----></span> </div> </div> </div> <!----><!----><!---->            </div> <span class=\"t-14 t-normal\"> <span aria-hidden=\"true\"><!---->MCB Vietnam · Full-time<!----></span><span class=\"visually-hidden\"><!---->MCB Vietnam · Full-time<!----></span> </span> <span class=\"t-14 t-normal t-black--light\"> <span class=\"pvs-entity__caption-wrapper\" aria-hidden=\"true\"><!---->Aug 2017 - Jul 2022 · 5 yrs<!----></span><span class=\"visually-hidden\"><!---->Aug 2017 to Jul 2022 · 5 yrs<!----></span> </span> <span class=\"t-14 t-normal t-black--light\"> <span aria-hidden=\"true\"><!---->Hanoi, Hanoi, Vietnam<!----></span><span class=\"visually-hidden\"><!---->Hanoi, Hanoi, Vietnam<!----></span> </span> </div> <!---->        </div>'''"
   ]
  },
  {
   "cell_type": "code",
   "execution_count": 62,
   "metadata": {},
   "outputs": [
    {
     "data": {
      "text/plain": [
       "['Senior .NET Engineer',\n",
       " 'MCB Vietnam · Full-time',\n",
       " 'Aug 2017 to Jul 2022 · 5 yrs',\n",
       " 'Hanoi, Hanoi, Vietnam']"
      ]
     },
     "execution_count": 62,
     "metadata": {},
     "output_type": "execute_result"
    }
   ],
   "source": [
    "li_exp_i_source = BeautifulSoup(li_exp_i_html, 'html.parser')\n",
    "span_tag = li_exp_i_source.find_all('span', class_='visually-hidden')\n",
    "[tag.text for tag in span_tag]"
   ]
  },
  {
   "cell_type": "code",
   "execution_count": 12,
   "metadata": {},
   "outputs": [
    {
     "data": {
      "text/plain": [
       "['https://www.linkedin.com/in/tr%E1%BA%A7n-ho%C3%A0ng-qu%C3%A2n-37817ab6/',\n",
       " 'https://www.linkedin.com/in/trieuchinh/',\n",
       " 'https://www.linkedin.com/in/truong-nguyen-nhat-a5b77878/',\n",
       " 'https://www.linkedin.com/in/alanelkadhi/',\n",
       " 'https://www.linkedin.com/in/vanducvo/',\n",
       " 'https://www.linkedin.com/in/hinodi/',\n",
       " 'https://www.linkedin.com/in/ngoc-linh-vu-b3718b1b6/',\n",
       " 'https://www.linkedin.com/in/robert-huynh-7020761b2/',\n",
       " 'https://www.linkedin.com/in/linh-hoang-128bb51aa/',\n",
       " 'https://www.linkedin.com/in/tuantitan/',\n",
       " 'https://www.linkedin.com/in/hungdn2703/',\n",
       " 'https://www.linkedin.com/in/tien-nguyen-015201aa/',\n",
       " 'https://www.linkedin.com/in/nguyenlecao/',\n",
       " 'https://www.linkedin.com/in/janet-tran-86377019b/',\n",
       " 'https://www.linkedin.com/in/khangnv/',\n",
       " 'https://www.linkedin.com/in/tuan-kieu-anh-534a2019b/',\n",
       " 'https://www.linkedin.com/in/nghia-doan-aa8375153/',\n",
       " 'https://www.linkedin.com/in/trung-hieu-ha/',\n",
       " 'https://www.linkedin.com/in/long-hoang-7a3455122/',\n",
       " 'https://www.linkedin.com/in/dinh-quoc-chinh-243915108/',\n",
       " 'https://www.linkedin.com/in/b%C3%B9i-do%C3%A3n-d%C5%A9ng-775231145/',\n",
       " 'https://www.linkedin.com/in/tranvanchau/',\n",
       " 'https://www.linkedin.com/in/tao-le-4b332b10a/',\n",
       " 'https://www.linkedin.com/in/tr%E1%BB%8Bnh-phong-a55000119/',\n",
       " 'https://www.linkedin.com/in/le-ha-b7a86997/',\n",
       " 'https://www.linkedin.com/in/annguyen96vn/',\n",
       " 'https://www.linkedin.com/in/%C4%91ang-nguy%E1%BB%85n-v%C4%83n-44539611a/',\n",
       " 'https://www.linkedin.com/in/tuanna2704/',\n",
       " 'https://www.linkedin.com/in/hien-nguyen-thi-32668888/',\n",
       " 'https://www.linkedin.com/in/kienmba/',\n",
       " 'https://www.linkedin.com/in/long-vu-99a3b3149/',\n",
       " 'https://www.linkedin.com/in/tr%C6%B0%C6%A1ng-%C4%91%E1%BA%B7ng-nguy%E1%BB%85n-316346b1/',\n",
       " 'https://www.linkedin.com/in/khanh-thamduy/',\n",
       " 'https://www.linkedin.com/in/vu-dang-ngoc/',\n",
       " 'https://www.linkedin.com/in/phong-nguyen-hoang-3b27b5120/',\n",
       " 'https://www.linkedin.com/in/hunpham/',\n",
       " 'https://www.linkedin.com/in/nhuttommy/']"
      ]
     },
     "execution_count": 12,
     "metadata": {},
     "output_type": "execute_result"
    }
   ],
   "source": [
    "URLs"
   ]
  },
  {
   "cell_type": "code",
   "execution_count": null,
   "metadata": {},
   "outputs": [],
   "source": [
    "# Task 4: Scrape the data of 1 Linkedin profile, and write the data to a .CSV file\n",
    "\n",
    "with open('output.csv', 'w',  newline = '') as file_output:\n",
    "    headers = ['Name', 'Job Title', 'Location', 'URL']\n",
    "    writer = csv.DictWriter(file_output, delimiter=',', lineterminator='\\n',fieldnames=headers)\n",
    "    writer.writeheader()\n",
    "    for linkedin_URL in URLs_one_page:\n",
    "        driver.get(linkedin_URL)\n",
    "        print('- Accessing profile: ', linkedin_URL)\n",
    "\n",
    "        page_source = BeautifulSoup(driver.page_source, \"html.parser\")\n",
    "\n",
    "        info_div = page_source.find('div',{'class':'flex-1 mr5'})\n",
    "        info_loc = info_div.find_all('ul')\n",
    "        name = info_loc[0].find('li').get_text().strip() #Remove unnecessary characters \n",
    "        print('--- Profile name is: ', name)\n",
    "        location = info_loc[1].find('li').get_text().strip() #Remove unnecessary characters \n",
    "        print('--- Profile location is: ', location)\n",
    "        title = info_div.find('h2').get_text().strip()\n",
    "        print('--- Profile title is: ', title)\n",
    "        writer.writerow({headers[0]:name, headers[1]:location, headers[2]:title, headers[3]:linkedin_URL})\n",
    "        print('\\n')\n",
    "\n",
    "print('Mission Completed!')"
   ]
  },
  {
   "cell_type": "code",
   "execution_count": null,
   "metadata": {},
   "outputs": [],
   "source": []
  }
 ],
 "metadata": {
  "kernelspec": {
   "display_name": "Python 3",
   "language": "python",
   "name": "python3"
  },
  "language_info": {
   "codemirror_mode": {
    "name": "ipython",
    "version": 3
   },
   "file_extension": ".py",
   "mimetype": "text/x-python",
   "name": "python",
   "nbconvert_exporter": "python",
   "pygments_lexer": "ipython3",
   "version": "3.12.2"
  }
 },
 "nbformat": 4,
 "nbformat_minor": 4
}
