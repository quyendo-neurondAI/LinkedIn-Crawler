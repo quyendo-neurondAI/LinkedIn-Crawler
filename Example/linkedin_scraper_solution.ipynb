{
 "cells": [
  {
   "cell_type": "code",
   "execution_count": 228,
   "metadata": {},
   "outputs": [
    {
     "name": "stdout",
     "output_type": "stream",
     "text": [
      "- Finish importing packages\n"
     ]
    }
   ],
   "source": [
    "# Import libraries and packages for the project\n",
    "from webdriver_manager.chrome import ChromeDriverManager\n",
    "\n",
    "from selenium import webdriver\n",
    "from selenium.webdriver.chrome.service import Service as ChromeService\n",
    "from selenium.webdriver.support.wait import WebDriverWait\n",
    "from selenium.webdriver.support import expected_conditions as EC\n",
    "from selenium.webdriver.common.keys import Keys\n",
    "from selenium.webdriver.common.by import By\n",
    "from selenium.common.exceptions import NoSuchElementException\n",
    "\n",
    "from bs4 import BeautifulSoup\n",
    "from time import sleep\n",
    "import re\n",
    "\n",
    "import csv\n",
    "print('- Finish importing packages')"
   ]
  },
  {
   "cell_type": "code",
   "execution_count": null,
   "metadata": {},
   "outputs": [],
   "source": []
  },
  {
   "cell_type": "code",
   "execution_count": 348,
   "metadata": {},
   "outputs": [],
   "source": [
    "def is_bottom_of_page(driver):\n",
    "    # Get the current scroll position and the total scrollable height\n",
    "    current_scroll_position = driver.execute_script(\"return window.pageYOffset + window.innerHeight;\")\n",
    "    total_scroll_height = driver.execute_script(\"return document.body.scrollHeight;\")\n",
    "    return current_scroll_position >= total_scroll_height\n",
    "\n",
    "def infinite_scroll(driver):\n",
    "    while True:\n",
    "            driver.execute_script('window.scrollTo(0, document.body.scrollHeight);')\n",
    "            sleep(2)\n",
    "            \n",
    "            check_showmore = False\n",
    "            try:\n",
    "                element = driver.find_element(By.CLASS_NAME, value='''artdeco-button artdeco-button--muted artdeco-button--1 artdeco-button--full artdeco-button--secondary ember-view scaffold-finite-scroll__load-button''')\n",
    "                check_showmore = True\n",
    "\n",
    "            except NoSuchElementException as e:\n",
    "                check_showmore = False\n",
    "                pass\n",
    "\n",
    "            if check_showmore:\n",
    "                driver.execute_script('window.scrollTo(document.body.scrollHeight, 0);')\n",
    "                sleep(2)\n",
    "                driver.execute_script('window.scrollTo(0, document.body.scrollHeight);')\n",
    "\n",
    "            if is_bottom_of_page(driver):\n",
    "                print(\"Reached the bottom of the page.\")\n",
    "                break\n",
    "\n",
    "def get_url(driver):\n",
    "    page_source = BeautifulSoup(driver.page_source)\n",
    "    profiles = page_source.find_all('a', class_ = 'ember-view mn-connection-card__link')\n",
    "    all_profile_URL = []\n",
    "    for profile in profiles:\n",
    "        profile_ID = profile.get('href')\n",
    "        profile_URL = \"https://www.linkedin.com\" + profile_ID\n",
    "        if profile_URL not in all_profile_URL:\n",
    "            all_profile_URL.append(profile_URL)\n",
    "    return all_profile_URL\n",
    "\n",
    "\n"
   ]
  },
  {
   "cell_type": "code",
   "execution_count": 10,
   "metadata": {},
   "outputs": [
    {
     "name": "stdout",
     "output_type": "stream",
     "text": [
      "- Finish initializing a driver\n",
      "- Finish importing the login credentials\n",
      "- Finish keying in email\n",
      "- Finish keying in password\n",
      "- Finish Task: Login to Linkedin\n",
      "Reached the bottom of the page.\n"
     ]
    }
   ],
   "source": [
    "#region LOGIN LINKEDIN\n",
    "driver = webdriver.Chrome(service=ChromeService(ChromeDriverManager().install()))\n",
    "\n",
    "sleep(1.5)\n",
    "url = 'https://www.linkedin.com/checkpoint/lg/sign-in-another-account'\n",
    "driver.get(url)\n",
    "print('- Finish initializing a driver')\n",
    "sleep(1.5)\n",
    "\n",
    "password = \"prodn123\"\n",
    "username = \"skytdv123@gmail.com\"\n",
    "print('- Finish importing the login credentials')\n",
    "sleep(1.5)\n",
    "\n",
    "email_field = driver.find_element(by=By.ID, value=\"username\")\n",
    "email_field.send_keys(username)\n",
    "print('- Finish keying in email')\n",
    "sleep(1.5)\n",
    "\n",
    "password_field = driver.find_element(by=By.NAME, value=\"session_password\")\n",
    "password_field.send_keys(password)\n",
    "password_field.send_keys\n",
    "print('- Finish keying in password')\n",
    "sleep(1.5)\n",
    "\n",
    "signin_field = driver.find_element(by=By.XPATH, value='//*[@id=\"organic-div\"]/form/div[3]/button')\n",
    "signin_field.click()\n",
    "print('- Finish Task: Login to Linkedin')\n",
    "sleep(3)\n",
    "#endregion\n",
    "\n",
    "\n",
    "#region CRAWL PROFILE URL FROM CONNECTIONS\n",
    "\n",
    "#visit connections page\n",
    "sleep(1)\n",
    "my_network_btn = driver.find_element(By.XPATH, value='//*[@id=\"global-nav\"]/div/nav/ul/li[2]/a')\n",
    "wait = WebDriverWait(driver, 10)\n",
    "wait.until(EC.element_to_be_clickable(my_network_btn))\n",
    "my_network_btn.click()\n",
    "\n",
    "sleep(1)\n",
    "connections_btn = driver.find_element(By.XPATH, value='//*[@id=\"root\"]/div[3]/div[2]/div/div/div/section/div/div/section[1]/div/nav/ul/li[1]/a')\n",
    "wait = WebDriverWait(driver, 10)\n",
    "wait.until(EC.element_to_be_clickable(connections_btn))\n",
    "connections_btn.click()\n",
    "\n",
    "#scroll loop\n",
    "while True:\n",
    "        driver.execute_script('window.scrollTo(0, document.body.scrollHeight);')\n",
    "        sleep(2)\n",
    "        \n",
    "        check_showmore = False\n",
    "        try:\n",
    "            element = driver.find_element(By.CLASS_NAME, value='''artdeco-button artdeco-button--muted artdeco-button--1 artdeco-button--full artdeco-button--secondary ember-view scaffold-finite-scroll__load-button''')\n",
    "            check_showmore = True\n",
    "\n",
    "        except NoSuchElementException as e:\n",
    "            check_showmore = False\n",
    "            pass\n",
    "\n",
    "        if check_showmore:\n",
    "            driver.execute_script('window.scrollTo(document.body.scrollHeight, 0);')\n",
    "            driver.execute_script('window.scrollTo(0, document.body.scrollHeight);')\n",
    "\n",
    "        if is_bottom_of_page(driver):\n",
    "            print(\"Reached the bottom of the page.\")\n",
    "            break\n",
    "\n",
    "\n",
    "URLs = GetURL(driver)\n",
    "#endregion\n"
   ]
  },
  {
   "cell_type": "code",
   "execution_count": 346,
   "metadata": {},
   "outputs": [
    {
     "name": "stdout",
     "output_type": "stream",
     "text": [
      "- Finish initializing a driver\n",
      "- Finish importing the login credentials\n",
      "- Finish keying in email\n",
      "- Finish keying in password\n",
      "- Finish Task: Login to Linkedin\n"
     ]
    }
   ],
   "source": [
    "#region LOGIN LINKEDIN\n",
    "driver = webdriver.Chrome(service=ChromeService(ChromeDriverManager().install()))\n",
    "\n",
    "sleep(1.5)\n",
    "url = 'https://www.linkedin.com/checkpoint/lg/sign-in-another-account'\n",
    "driver.get(url)\n",
    "print('- Finish initializing a driver')\n",
    "sleep(1.5)\n",
    "\n",
    "password = \"prodn123\"\n",
    "username = \"skytdv123@gmail.com\"\n",
    "print('- Finish importing the login credentials')\n",
    "sleep(1.5)\n",
    "\n",
    "email_field = driver.find_element(by=By.ID, value=\"username\")\n",
    "email_field.send_keys(username)\n",
    "print('- Finish keying in email')\n",
    "sleep(1.5)\n",
    "\n",
    "password_field = driver.find_element(by=By.NAME, value=\"session_password\")\n",
    "password_field.send_keys(password)\n",
    "password_field.send_keys\n",
    "print('- Finish keying in password')\n",
    "sleep(1.5)\n",
    "\n",
    "signin_field = driver.find_element(by=By.XPATH, value='//*[@id=\"organic-div\"]/form/div[3]/button')\n",
    "signin_field.click()\n",
    "print('- Finish Task: Login to Linkedin')\n",
    "sleep(3)\n",
    "#endregion\n",
    "\n",
    "#region CRAWL PROFILE DATA\n",
    "sleep(3)\n",
    "# URL = 'https://www.linkedin.com/in/selenado/'\n",
    "# URL = 'https://www.linkedin.com/in/trieuchinh/'\n",
    "URL = 'https://www.linkedin.com/in/tr%E1%BA%A7n-ho%C3%A0ng-qu%C3%A2n-37817ab6/'\n",
    "driver.get(URL)\n",
    "\n",
    "# #endregion"
   ]
  },
  {
   "cell_type": "markdown",
   "metadata": {},
   "source": [
    "### login"
   ]
  },
  {
   "cell_type": "code",
   "execution_count": 357,
   "metadata": {},
   "outputs": [],
   "source": [
    "def login(driver, username, password):\n",
    "    sleep(1.5)\n",
    "    url = 'https://www.linkedin.com/checkpoint/lg/sign-in-another-account'\n",
    "    driver.get(url)\n",
    "    print('- Finish initializing a driver')\n",
    "    sleep(1.5)\n",
    "\n",
    "    password = \"prodn123\"\n",
    "    username = \"skytdv123@gmail.com\"\n",
    "    print('- Finish importing the login credentials')\n",
    "    sleep(1.5)\n",
    "\n",
    "    email_field = driver.find_element(by=By.ID, value=\"username\")\n",
    "    email_field.send_keys(username)\n",
    "    print('- Finish keying in email')\n",
    "    sleep(1.5)\n",
    "\n",
    "    password_field = driver.find_element(by=By.NAME, value=\"session_password\")\n",
    "    password_field.send_keys(password)\n",
    "    password_field.send_keys\n",
    "    print('- Finish keying in password')\n",
    "    sleep(1.5)\n",
    "\n",
    "    signin_field = driver.find_element(by=By.XPATH, value='//*[@id=\"organic-div\"]/form/div[3]/button')\n",
    "    signin_field.click()\n",
    "    print('- Finish Task: Login to Linkedin')\n",
    "    sleep(2)    "
   ]
  },
  {
   "cell_type": "markdown",
   "metadata": {},
   "source": [
    "## Crawl profile data"
   ]
  },
  {
   "cell_type": "markdown",
   "metadata": {},
   "source": [
    "### get contact info"
   ]
  },
  {
   "cell_type": "code",
   "execution_count": 402,
   "metadata": {},
   "outputs": [],
   "source": [
    "def get_contact_info(driver: webdriver.Chrome):\n",
    "    try:\n",
    "        sleep(1)\n",
    "        driver.execute_script('window.scrollTo(0, document.body.scrollHeight);')     \n",
    "        sleep(0.5)   \n",
    "        driver.execute_script('window.scrollTo(document.body.scrollHeight,0);')\n",
    "        sleep(0.5)\n",
    "        a_contact_info = driver.find_element(By.ID, value='''top-card-text-details-contact-info''')\n",
    "        wait = WebDriverWait(driver, 10)\n",
    "        wait.until(EC.element_to_be_clickable(a_contact_info))\n",
    "        a_contact_info.click()\n",
    "\n",
    "        sleep(1.5)\n",
    "        div_profile_section = driver.find_element(By.XPATH, value='''/html/body/div[4]/div/div''')\n",
    "        div_profile_section_source = BeautifulSoup(div_profile_section.get_attribute('outerHTML'),'html.parser')\n",
    "        h1_tags = div_profile_section_source.find_all('h1')\n",
    "        h1_text = [tag.text.strip() for tag in h1_tags]\n",
    "        h3_tags = div_profile_section_source.find_all('h3')\n",
    "        h3_text = [tag.text.strip() for tag in h3_tags]\n",
    "        a_tags = div_profile_section_source.find_all('a')\n",
    "        a_text = [tag.text.strip() for tag in a_tags]\n",
    "        span_tags = div_profile_section_source.find_all('span')\n",
    "        span_text = [tag.text.strip() for tag in span_tags]\n",
    "        \n",
    "        exit_btn = driver.find_element(By.XPATH, value='''/html/body/div[4]/div/div/button''')\n",
    "        exit_btn.click()\n",
    "\n",
    "        return {\n",
    "            'h1_tag_text': h1_text,\n",
    "            'h3_tag_text': h3_text,\n",
    "            'a_tag_text': a_text,\n",
    "            'span_tang_text': span_text\n",
    "        }\n",
    "    except NoSuchElementException as e:\n",
    "        print(e)"
   ]
  },
  {
   "cell_type": "code",
   "execution_count": 403,
   "metadata": {},
   "outputs": [
    {
     "data": {
      "text/plain": [
       "{'h1_tag_text': ['Trần Hoàng Quân'],\n",
       " 'h3_tag_text': ['Trần’s Profile',\n",
       "  'Email',\n",
       "  'Connected',\n",
       "  'Get up to 4.6x replies when you message with InMail'],\n",
       " 'a_tag_text': ['linkedin.com/in/trần-hoàng-quân-37817ab6',\n",
       "  'hoangquan1991@gmail.com',\n",
       "  'Try Premium for ₫0'],\n",
       " 'span_tang_text': ['Dialog content start.',\n",
       "  '',\n",
       "  'Jun 1, 2021',\n",
       "  'Dialog content end.']}"
      ]
     },
     "execution_count": 403,
     "metadata": {},
     "output_type": "execute_result"
    }
   ],
   "source": [
    "get_contact_info(driver)"
   ]
  },
  {
   "cell_type": "markdown",
   "metadata": {},
   "source": [
    "### get sections"
   ]
  },
  {
   "cell_type": "code",
   "execution_count": 416,
   "metadata": {},
   "outputs": [],
   "source": [
    "def get_section(driver: webdriver.Chrome):\n",
    "    sleep(1)\n",
    "    section_head = {}\n",
    "    main_element = driver.find_element(By.CLASS_NAME, value='scaffold-layout__main')\n",
    "    main_element_source = BeautifulSoup(main_element.get_attribute('outerHTML'),'html.parser')\n",
    "    sections = main_element_source.find_all('section', class_='artdeco-card pv-profile-card break-words mt2')\n",
    "    for i in range(0,len(sections)):\n",
    "        if len([tag.text.strip() for tag in sections[i].select('span.visually-hidden')]) > 0:\n",
    "            head = ([tag.text.strip() for tag in sections[i].select('span.visually-hidden')][0])\n",
    "            section_head[head] = i+2\n",
    "    return {'section_name': section_head,\n",
    "            'full_xpath': driver.execute_script(\"\"\"\n",
    "    function getElementXPath(elt) {\n",
    "        var path = \"\";\n",
    "        for (; elt && elt.nodeType == 1; elt = elt.parentNode) {\n",
    "            idx = getElementIdx(elt);\n",
    "            xname = elt.tagName;\n",
    "            if (idx > 1) xname += \"[\" + idx + \"]\";\n",
    "            path = \"/\" + xname + path;\n",
    "        }\n",
    "        return path;\n",
    "    }\n",
    "\n",
    "    function getElementIdx(elt) {\n",
    "        var count = 1;\n",
    "        for (var sib = elt.previousSibling; sib; sib = sib.previousSibling) {\n",
    "            if (sib.nodeType == 1 && sib.tagName == elt.tagName) count++;\n",
    "        }\n",
    "        return count;\n",
    "    }\n",
    "\n",
    "    return getElementXPath(arguments[0]);\n",
    "    \"\"\", main_element).lower()\n",
    "    }\n"
   ]
  },
  {
   "cell_type": "markdown",
   "metadata": {},
   "source": [
    "### get section info"
   ]
  },
  {
   "cell_type": "code",
   "execution_count": 417,
   "metadata": {},
   "outputs": [],
   "source": [
    "def get_section_info(driver: webdriver.Chrome, section_number: int, full_xpath: str, ):\n",
    "    sleep(1)\n",
    "\n",
    "    info_list = []\n",
    "    show_more_check = False\n",
    "    try:\n",
    "        show_more = driver.find_element(By.XPATH, value= full_xpath + f'''/section[{section_number}]/div[3]/div/div/div/a''')\n",
    "        show_more_check = True\n",
    "    except NoSuchElementException:\n",
    "        show_more_check = False\n",
    "\n",
    "    if show_more_check:   #if yes: click show more\n",
    "        wait.until(EC.element_to_be_clickable(show_more))\n",
    "        show_more.click()\n",
    "        sleep(2)\n",
    "        infinite_scroll(driver)\n",
    "        list_container = driver.find_element(By.CLASS_NAME, value='pvs-list__container')\n",
    "        list_container_source = BeautifulSoup(list_container.get_attribute('outerHTML'),'html.parser')\n",
    "        li_elements = list_container_source.find_all('div', class_='display-flex flex-column align-self-center flex-grow-1')\n",
    "\n",
    "        for li in li_elements:\n",
    "            span_tags = li.find_all('span', class_='visually-hidden')\n",
    "            span_text = [tag.text.strip() for tag in span_tags]\n",
    "            info_list.append(span_text) \n",
    "                \n",
    "        driver.back()\n",
    "        \n",
    "    else:\n",
    "        ul_element = driver.find_element(By.XPATH, value=f'//*[@id=\"profile-content\"]/div/div[2]/div/div/main/section[{section_number}]/div[3]/ul')\n",
    "\n",
    "        ul_element_source = BeautifulSoup(ul_element.get_attribute('outerHTML'),'html.parser')\n",
    "        number_of_li = len(ul_element_source.find_all('li',class_='artdeco-list__item'))\n",
    "\n",
    "        if(number_of_li<2):\n",
    "            # li_element = driver.find_element(By.XPATH, value='/html/body/div[6]/div[3]/div/div/div[2]/div/div/main/section[3]/div[3]/ul/li/div/div[2]')\n",
    "            li_element = driver.find_element(By.XPATH, value=f'//*[@id=\"profile-content\"]/div/div[2]/div/div/main/section[{section_number}]/div[3]/ul/li/div/div[2]')\n",
    "            li_element_source = BeautifulSoup(li_element.get_attribute('outerHTML'),'html.parser')\n",
    "            span_tags = li_element_source.find_all('span', class_='visually-hidden')\n",
    "            span_text = [tag.text.strip() for tag in span_tags]\n",
    "            info_list.append(span_text)\n",
    "        else:\n",
    "            for j in range(number_of_li):\n",
    "                li_number = j+1\n",
    "                # li_element = driver.find_element(By.XPATH, value=f'//*[@id=\"profile-content\"]/div/div[2]/div/div/main/section[{section_number}]/div[3]/ul/li[{li_number}]/div/div[2]')\n",
    "                li_element = driver.find_element(By.XPATH, value=f'//*[@id=\"profile-content\"]/div/div[2]/div/div/main/section[{section_number}]/div[3]/ul/li[{li_number}]/div/div[2]')\n",
    "                li_element_source = BeautifulSoup(li_element.get_attribute('outerHTML'),'html.parser')\n",
    "                span_tags = li_element_source.find_all('span', class_='visually-hidden')\n",
    "                span_text = [tag.text.strip() for tag in span_tags]\n",
    "                info_list.append(span_text)    \n",
    "\n",
    "    return info_list"
   ]
  },
  {
   "cell_type": "code",
   "execution_count": 418,
   "metadata": {},
   "outputs": [],
   "source": [
    "def get_section_info_by_name(driver: webdriver.Chrome, sections: dict, section_name: str, full_xpath: str):\n",
    "    sleep(1)\n",
    "\n",
    "    result = None\n",
    "    if section_name in sections:\n",
    "        info_list = []\n",
    "        section_number = sections[section_name]\n",
    "        show_more_check = False\n",
    "        try:\n",
    "            show_more = driver.find_element(By.XPATH, value= full_xpath + f'''/section[{section_number}]/div[3]/div/div/div/a''')\n",
    "            show_more_check = True\n",
    "        except NoSuchElementException:\n",
    "            show_more_check = False\n",
    "\n",
    "        if show_more_check:   #if yes: click show more\n",
    "            wait.until(EC.element_to_be_clickable(show_more))\n",
    "            show_more.click()\n",
    "            sleep(2)\n",
    "            infinite_scroll(driver)\n",
    "            list_container = driver.find_element(By.CLASS_NAME, value='pvs-list__container')\n",
    "            list_container_source = BeautifulSoup(list_container.get_attribute('outerHTML'),'html.parser')\n",
    "            li_elements = list_container_source.find_all('div', class_='display-flex flex-column align-self-center flex-grow-1')\n",
    "\n",
    "            for li in li_elements:\n",
    "                span_tags = li.find_all('span', class_='visually-hidden')\n",
    "                span_text = [tag.text.strip() for tag in span_tags]\n",
    "                info_list.append(span_text) \n",
    "                    \n",
    "            driver.back()\n",
    "            \n",
    "        else:\n",
    "            ul_element = driver.find_element(By.XPATH, value=f'//*[@id=\"profile-content\"]/div/div[2]/div/div/main/section[{section_number}]/div[3]/ul')\n",
    "\n",
    "            ul_element_source = BeautifulSoup(ul_element.get_attribute('outerHTML'),'html.parser')\n",
    "            number_of_li = len(ul_element_source.find_all('li',class_='artdeco-list__item'))\n",
    "\n",
    "            if(number_of_li<2):\n",
    "                # li_element = driver.find_element(By.XPATH, value='/html/body/div[6]/div[3]/div/div/div[2]/div/div/main/section[3]/div[3]/ul/li/div/div[2]')\n",
    "                li_element = driver.find_element(By.XPATH, value=f'//*[@id=\"profile-content\"]/div/div[2]/div/div/main/section[{section_number}]/div[3]/ul/li/div/div[2]')\n",
    "                li_element_source = BeautifulSoup(li_element.get_attribute('outerHTML'),'html.parser')\n",
    "                span_tags = li_element_source.find_all('span', class_='visually-hidden')\n",
    "                span_text = [tag.text.strip() for tag in span_tags]\n",
    "                info_list.append(span_text)\n",
    "            else:\n",
    "                for j in range(number_of_li):\n",
    "                    li_number = j+1\n",
    "                    # li_element = driver.find_element(By.XPATH, value=f'//*[@id=\"profile-content\"]/div/div[2]/div/div/main/section[{section_number}]/div[3]/ul/li[{li_number}]/div/div[2]')\n",
    "                    li_element = driver.find_element(By.XPATH, value=f'//*[@id=\"profile-content\"]/div/div[2]/div/div/main/section[{section_number}]/div[3]/ul/li[{li_number}]/div/div[2]')\n",
    "                    li_element_source = BeautifulSoup(li_element.get_attribute('outerHTML'),'html.parser')\n",
    "                    span_tags = li_element_source.find_all('span', class_='visually-hidden')\n",
    "                    span_text = [tag.text.strip() for tag in span_tags]\n",
    "                    info_list.append(span_text)    \n",
    "        result = info_list\n",
    "\n",
    "    return result"
   ]
  },
  {
   "cell_type": "markdown",
   "metadata": {},
   "source": [
    "### get experience"
   ]
  },
  {
   "cell_type": "code",
   "execution_count": 361,
   "metadata": {},
   "outputs": [],
   "source": [
    "def get_experience(driver: webdriver.Chrome, sections: dict):\n",
    "    if 'Experience' in sections['sections']:\n",
    "        section_number = sections['sections']['Experience']\n",
    "        full_xpath = sections['full_xpath']\n",
    "        section_info = get_section_info(driver, section_number, full_xpath)\n",
    "        return section_info\n",
    "\n",
    "    return None"
   ]
  },
  {
   "cell_type": "markdown",
   "metadata": {},
   "source": [
    "### get skills"
   ]
  },
  {
   "cell_type": "code",
   "execution_count": 376,
   "metadata": {},
   "outputs": [],
   "source": [
    "def get_skills(driver: webdriver.Chrome, sections: dict):\n",
    "    if 'Skills' in sections['sections']:\n",
    "        section_number = sections['sections']['Skills']\n",
    "        full_xpath = sections['full_xpath']\n",
    "        section_info = get_section_info(driver, section_number, full_xpath)\n",
    "        return section_info\n",
    "\n",
    "    return None"
   ]
  },
  {
   "cell_type": "code",
   "execution_count": 372,
   "metadata": {},
   "outputs": [
    {
     "name": "stdout",
     "output_type": "stream",
     "text": [
      "Reached the bottom of the page.\n"
     ]
    },
    {
     "data": {
      "text/plain": [
       "[['C#',\n",
       "  'Passed LinkedIn Skill Assessment',\n",
       "  'Endorsed by 2 colleagues at \\nEnclave Vietnam',\n",
       "  '9 endorsements'],\n",
       " ['Android Development',\n",
       "  'Hieu Vo Tran and 1 connection have given endorsements for this skill',\n",
       "  '2 endorsements'],\n",
       " ['Xamarin',\n",
       "  'Hieu Vo Tran and 1 connection have given endorsements for this skill',\n",
       "  '2 endorsements'],\n",
       " ['Java', '7 endorsements'],\n",
       " ['JavaScript', 'Passed LinkedIn Skill Assessment', '10 endorsements'],\n",
       " ['jQuery', 'Passed LinkedIn Skill Assessment', '2 endorsements'],\n",
       " ['Bootstrap'],\n",
       " ['ASP.NET MVC', '1 endorsement'],\n",
       " ['ASP.NET Web API', '2 endorsements'],\n",
       " ['JSP'],\n",
       " ['HTML5'],\n",
       " ['C++', '5 endorsements'],\n",
       " ['RESTful WebServices', '1 endorsement'],\n",
       " ['OpenCV'],\n",
       " ['AngularJS'],\n",
       " ['Telerik Web Controls'],\n",
       " ['Adobe Experience Manager (AEM)'],\n",
       " ['Adobe Experience Manager'],\n",
       " ['Git', 'Passed LinkedIn Skill Assessment'],\n",
       " ['Microservices'],\n",
       " ['RabbitMQ'],\n",
       " ['PostgreSQL'],\n",
       " ['ASP.NET'],\n",
       " ['Representational State Transfer (REST)'],\n",
       " ['ASP.NET Core'],\n",
       " ['Multi-tenant'],\n",
       " ['Amazon Web Services (AWS)'],\n",
       " ['AWS Elastic Beanstalk'],\n",
       " ['AWS Identity and Access Management (AWS IAM)'],\n",
       " ['.NET Core'],\n",
       " ['Entity Framework'],\n",
       " ['Redis'],\n",
       " ['SQL'],\n",
       " ['Cascading Style Sheets (CSS)'],\n",
       " ['Azure DevOps'],\n",
       " ['Node.js'],\n",
       " ['AJAX'],\n",
       " ['MySQL'],\n",
       " ['Microsoft Azure'],\n",
       " ['SQL Azure'],\n",
       " ['Terraform'],\n",
       " ['Helm (Software)'],\n",
       " ['Helm Charts'],\n",
       " ['drm'],\n",
       " ['DRM']]"
      ]
     },
     "execution_count": 372,
     "metadata": {},
     "output_type": "execute_result"
    }
   ],
   "source": [
    "sections = get_section(driver)\n",
    "get_skills(driver,sections)"
   ]
  },
  {
   "cell_type": "markdown",
   "metadata": {},
   "source": [
    "### get education"
   ]
  },
  {
   "cell_type": "code",
   "execution_count": 375,
   "metadata": {},
   "outputs": [],
   "source": [
    "def get_education(driver: webdriver.Chrome, sections: dict):\n",
    "    if 'Education' in sections['sections']:\n",
    "        section_number = sections['sections']['Education']\n",
    "        full_xpath = sections['full_xpath']\n",
    "        section_info = get_section_info(driver, section_number, full_xpath)\n",
    "        return section_info\n",
    "\n",
    "    return None"
   ]
  },
  {
   "cell_type": "code",
   "execution_count": 370,
   "metadata": {},
   "outputs": [
    {
     "data": {
      "text/plain": [
       "[['Truong dai',\n",
       "  \"Bachelor's degree, Information Technology\",\n",
       "  '2009 - 2014',\n",
       "  'Grade: Good']]"
      ]
     },
     "execution_count": 370,
     "metadata": {},
     "output_type": "execute_result"
    }
   ],
   "source": [
    "sections = get_section(driver)\n",
    "get_education(driver,sections)"
   ]
  },
  {
   "cell_type": "markdown",
   "metadata": {},
   "source": [
    "### get certifications"
   ]
  },
  {
   "cell_type": "code",
   "execution_count": 374,
   "metadata": {},
   "outputs": [],
   "source": [
    "def get_cert(driver: webdriver.Chrome, sections: dict):\n",
    "    if 'Licenses & certifications' in sections['sections']:\n",
    "        section_number = sections['sections']['Licenses & certifications']\n",
    "        full_xpath = sections['full_xpath']\n",
    "        section_info = get_section_info(driver, section_number, full_xpath)\n",
    "        return section_info\n",
    "\n",
    "    return None"
   ]
  },
  {
   "cell_type": "code",
   "execution_count": 377,
   "metadata": {},
   "outputs": [
    {
     "data": {
      "text/plain": [
       "[['Certified Widevine Implementation Partner',\n",
       "  'Google',\n",
       "  'Issued Feb 2022',\n",
       "  'Credential ID 00999MD']]"
      ]
     },
     "execution_count": 377,
     "metadata": {},
     "output_type": "execute_result"
    }
   ],
   "source": [
    "sections = get_section(driver)\n",
    "get_cert(driver,sections)"
   ]
  },
  {
   "cell_type": "markdown",
   "metadata": {},
   "source": [
    "### crawl one profile"
   ]
  },
  {
   "cell_type": "code",
   "execution_count": 406,
   "metadata": {},
   "outputs": [],
   "source": [
    "def crawl_profile(driver, profile_url):\n",
    "    profile_info = {}\n",
    "\n",
    "    #navigate to target profile\n",
    "    driver.get(profile_url)\n",
    "\n",
    "    #get contact info\n",
    "    contact_info = get_contact_info(driver)\n",
    "    profile_info['Contact info': contact_info]\n",
    "\n",
    "    #get section info\n",
    "    sections = get_section(driver)\n",
    "    for name in sections:\n",
    "        section_info = get_section_info_by_name(driver, sections['sections'], name, sections['full_xpath'])\n",
    "        profile_info[name] = section_info\n",
    "\n",
    "    return profile_info\n"
   ]
  },
  {
   "cell_type": "code",
   "execution_count": 420,
   "metadata": {},
   "outputs": [
    {
     "ename": "NoSuchElementException",
     "evalue": "Message: no such element: Unable to locate element: {\"method\":\"xpath\",\"selector\":\"//*[@id=\"profile-content\"]/div/div[2]/div/div/main/section[2]/div[3]/ul\"}\n  (Session info: chrome=131.0.6778.70); For documentation on this error, please visit: https://www.selenium.dev/documentation/webdriver/troubleshooting/errors#no-such-element-exception\nStacktrace:\n\tGetHandleVerifier [0x008433E3+25059]\n\t(No symbol) [0x007CCDE4]\n\t(No symbol) [0x006ABEC3]\n\t(No symbol) [0x006EFD86]\n\t(No symbol) [0x006EFFCB]\n\t(No symbol) [0x0072D952]\n\t(No symbol) [0x00711F44]\n\t(No symbol) [0x0072B51E]\n\t(No symbol) [0x00711C96]\n\t(No symbol) [0x006E3FAC]\n\t(No symbol) [0x006E4F3D]\n\tGetHandleVerifier [0x00B35543+3113795]\n\tGetHandleVerifier [0x00B4A20A+3198986]\n\tGetHandleVerifier [0x00B429E2+3168226]\n\tGetHandleVerifier [0x008E3250+680016]\n\t(No symbol) [0x007D572D]\n\t(No symbol) [0x007D29D8]\n\t(No symbol) [0x007D2B75]\n\t(No symbol) [0x007C57D0]\n\tBaseThreadInitThunk [0x76BB7BA9+25]\n\tRtlInitializeExceptionChain [0x779DC11B+107]\n\tRtlClearBits [0x779DC09F+191]\n",
     "output_type": "error",
     "traceback": [
      "\u001b[1;31m---------------------------------------------------------------------------\u001b[0m",
      "\u001b[1;31mNoSuchElementException\u001b[0m                    Traceback (most recent call last)",
      "Cell \u001b[1;32mIn[420], line 5\u001b[0m\n\u001b[0;32m      3\u001b[0m sections \u001b[38;5;241m=\u001b[39m get_section(driver)\n\u001b[0;32m      4\u001b[0m \u001b[38;5;28;01mfor\u001b[39;00m name \u001b[38;5;129;01min\u001b[39;00m sections[\u001b[38;5;124m'\u001b[39m\u001b[38;5;124msection_name\u001b[39m\u001b[38;5;124m'\u001b[39m]:\n\u001b[1;32m----> 5\u001b[0m     section_info \u001b[38;5;241m=\u001b[39m \u001b[43mget_section_info_by_name\u001b[49m\u001b[43m(\u001b[49m\u001b[43mdriver\u001b[49m\u001b[43m,\u001b[49m\u001b[43m \u001b[49m\u001b[43msections\u001b[49m\u001b[43m[\u001b[49m\u001b[38;5;124;43m'\u001b[39;49m\u001b[38;5;124;43msection_name\u001b[39;49m\u001b[38;5;124;43m'\u001b[39;49m\u001b[43m]\u001b[49m\u001b[43m,\u001b[49m\u001b[43m \u001b[49m\u001b[43mname\u001b[49m\u001b[43m,\u001b[49m\u001b[43m \u001b[49m\u001b[43msections\u001b[49m\u001b[43m[\u001b[49m\u001b[38;5;124;43m'\u001b[39;49m\u001b[38;5;124;43mfull_xpath\u001b[39;49m\u001b[38;5;124;43m'\u001b[39;49m\u001b[43m]\u001b[49m\u001b[43m)\u001b[49m\n\u001b[0;32m      6\u001b[0m     profile_info[name] \u001b[38;5;241m=\u001b[39m section_info\n",
      "Cell \u001b[1;32mIn[418], line 32\u001b[0m, in \u001b[0;36mget_section_info_by_name\u001b[1;34m(driver, sections, section_name, full_xpath)\u001b[0m\n\u001b[0;32m     29\u001b[0m     driver\u001b[38;5;241m.\u001b[39mback()\n\u001b[0;32m     31\u001b[0m \u001b[38;5;28;01melse\u001b[39;00m:\n\u001b[1;32m---> 32\u001b[0m     ul_element \u001b[38;5;241m=\u001b[39m \u001b[43mdriver\u001b[49m\u001b[38;5;241;43m.\u001b[39;49m\u001b[43mfind_element\u001b[49m\u001b[43m(\u001b[49m\u001b[43mBy\u001b[49m\u001b[38;5;241;43m.\u001b[39;49m\u001b[43mXPATH\u001b[49m\u001b[43m,\u001b[49m\u001b[43m \u001b[49m\u001b[43mvalue\u001b[49m\u001b[38;5;241;43m=\u001b[39;49m\u001b[38;5;124;43mf\u001b[39;49m\u001b[38;5;124;43m'\u001b[39;49m\u001b[38;5;124;43m//*[@id=\u001b[39;49m\u001b[38;5;124;43m\"\u001b[39;49m\u001b[38;5;124;43mprofile-content\u001b[39;49m\u001b[38;5;124;43m\"\u001b[39;49m\u001b[38;5;124;43m]/div/div[2]/div/div/main/section[\u001b[39;49m\u001b[38;5;132;43;01m{\u001b[39;49;00m\u001b[43msection_number\u001b[49m\u001b[38;5;132;43;01m}\u001b[39;49;00m\u001b[38;5;124;43m]/div[3]/ul\u001b[39;49m\u001b[38;5;124;43m'\u001b[39;49m\u001b[43m)\u001b[49m\n\u001b[0;32m     34\u001b[0m     ul_element_source \u001b[38;5;241m=\u001b[39m BeautifulSoup(ul_element\u001b[38;5;241m.\u001b[39mget_attribute(\u001b[38;5;124m'\u001b[39m\u001b[38;5;124mouterHTML\u001b[39m\u001b[38;5;124m'\u001b[39m),\u001b[38;5;124m'\u001b[39m\u001b[38;5;124mhtml.parser\u001b[39m\u001b[38;5;124m'\u001b[39m)\n\u001b[0;32m     35\u001b[0m     number_of_li \u001b[38;5;241m=\u001b[39m \u001b[38;5;28mlen\u001b[39m(ul_element_source\u001b[38;5;241m.\u001b[39mfind_all(\u001b[38;5;124m'\u001b[39m\u001b[38;5;124mli\u001b[39m\u001b[38;5;124m'\u001b[39m,class_\u001b[38;5;241m=\u001b[39m\u001b[38;5;124m'\u001b[39m\u001b[38;5;124martdeco-list__item\u001b[39m\u001b[38;5;124m'\u001b[39m))\n",
      "File \u001b[1;32md:\\Training\\Projects\\LinkedIn_Crawler\\.venv\\Lib\\site-packages\\selenium\\webdriver\\remote\\webdriver.py:766\u001b[0m, in \u001b[0;36mWebDriver.find_element\u001b[1;34m(self, by, value)\u001b[0m\n\u001b[0;32m    763\u001b[0m         \u001b[38;5;28;01mraise\u001b[39;00m NoSuchElementException(\u001b[38;5;124mf\u001b[39m\u001b[38;5;124m\"\u001b[39m\u001b[38;5;124mCannot locate relative element with: \u001b[39m\u001b[38;5;132;01m{\u001b[39;00mby\u001b[38;5;241m.\u001b[39mroot\u001b[38;5;132;01m}\u001b[39;00m\u001b[38;5;124m\"\u001b[39m)\n\u001b[0;32m    764\u001b[0m     \u001b[38;5;28;01mreturn\u001b[39;00m elements[\u001b[38;5;241m0\u001b[39m]\n\u001b[1;32m--> 766\u001b[0m \u001b[38;5;28;01mreturn\u001b[39;00m \u001b[38;5;28;43mself\u001b[39;49m\u001b[38;5;241;43m.\u001b[39;49m\u001b[43mexecute\u001b[49m\u001b[43m(\u001b[49m\u001b[43mCommand\u001b[49m\u001b[38;5;241;43m.\u001b[39;49m\u001b[43mFIND_ELEMENT\u001b[49m\u001b[43m,\u001b[49m\u001b[43m \u001b[49m\u001b[43m{\u001b[49m\u001b[38;5;124;43m\"\u001b[39;49m\u001b[38;5;124;43musing\u001b[39;49m\u001b[38;5;124;43m\"\u001b[39;49m\u001b[43m:\u001b[49m\u001b[43m \u001b[49m\u001b[43mby\u001b[49m\u001b[43m,\u001b[49m\u001b[43m \u001b[49m\u001b[38;5;124;43m\"\u001b[39;49m\u001b[38;5;124;43mvalue\u001b[39;49m\u001b[38;5;124;43m\"\u001b[39;49m\u001b[43m:\u001b[49m\u001b[43m \u001b[49m\u001b[43mvalue\u001b[49m\u001b[43m}\u001b[49m\u001b[43m)\u001b[49m[\u001b[38;5;124m\"\u001b[39m\u001b[38;5;124mvalue\u001b[39m\u001b[38;5;124m\"\u001b[39m]\n",
      "File \u001b[1;32md:\\Training\\Projects\\LinkedIn_Crawler\\.venv\\Lib\\site-packages\\selenium\\webdriver\\remote\\webdriver.py:380\u001b[0m, in \u001b[0;36mWebDriver.execute\u001b[1;34m(self, driver_command, params)\u001b[0m\n\u001b[0;32m    378\u001b[0m response \u001b[38;5;241m=\u001b[39m \u001b[38;5;28mself\u001b[39m\u001b[38;5;241m.\u001b[39mcommand_executor\u001b[38;5;241m.\u001b[39mexecute(driver_command, params)\n\u001b[0;32m    379\u001b[0m \u001b[38;5;28;01mif\u001b[39;00m response:\n\u001b[1;32m--> 380\u001b[0m     \u001b[38;5;28;43mself\u001b[39;49m\u001b[38;5;241;43m.\u001b[39;49m\u001b[43merror_handler\u001b[49m\u001b[38;5;241;43m.\u001b[39;49m\u001b[43mcheck_response\u001b[49m\u001b[43m(\u001b[49m\u001b[43mresponse\u001b[49m\u001b[43m)\u001b[49m\n\u001b[0;32m    381\u001b[0m     response[\u001b[38;5;124m\"\u001b[39m\u001b[38;5;124mvalue\u001b[39m\u001b[38;5;124m\"\u001b[39m] \u001b[38;5;241m=\u001b[39m \u001b[38;5;28mself\u001b[39m\u001b[38;5;241m.\u001b[39m_unwrap_value(response\u001b[38;5;241m.\u001b[39mget(\u001b[38;5;124m\"\u001b[39m\u001b[38;5;124mvalue\u001b[39m\u001b[38;5;124m\"\u001b[39m, \u001b[38;5;28;01mNone\u001b[39;00m))\n\u001b[0;32m    382\u001b[0m     \u001b[38;5;28;01mreturn\u001b[39;00m response\n",
      "File \u001b[1;32md:\\Training\\Projects\\LinkedIn_Crawler\\.venv\\Lib\\site-packages\\selenium\\webdriver\\remote\\errorhandler.py:229\u001b[0m, in \u001b[0;36mErrorHandler.check_response\u001b[1;34m(self, response)\u001b[0m\n\u001b[0;32m    227\u001b[0m         alert_text \u001b[38;5;241m=\u001b[39m value[\u001b[38;5;124m\"\u001b[39m\u001b[38;5;124malert\u001b[39m\u001b[38;5;124m\"\u001b[39m]\u001b[38;5;241m.\u001b[39mget(\u001b[38;5;124m\"\u001b[39m\u001b[38;5;124mtext\u001b[39m\u001b[38;5;124m\"\u001b[39m)\n\u001b[0;32m    228\u001b[0m     \u001b[38;5;28;01mraise\u001b[39;00m exception_class(message, screen, stacktrace, alert_text)  \u001b[38;5;66;03m# type: ignore[call-arg]  # mypy is not smart enough here\u001b[39;00m\n\u001b[1;32m--> 229\u001b[0m \u001b[38;5;28;01mraise\u001b[39;00m exception_class(message, screen, stacktrace)\n",
      "\u001b[1;31mNoSuchElementException\u001b[0m: Message: no such element: Unable to locate element: {\"method\":\"xpath\",\"selector\":\"//*[@id=\"profile-content\"]/div/div[2]/div/div/main/section[2]/div[3]/ul\"}\n  (Session info: chrome=131.0.6778.70); For documentation on this error, please visit: https://www.selenium.dev/documentation/webdriver/troubleshooting/errors#no-such-element-exception\nStacktrace:\n\tGetHandleVerifier [0x008433E3+25059]\n\t(No symbol) [0x007CCDE4]\n\t(No symbol) [0x006ABEC3]\n\t(No symbol) [0x006EFD86]\n\t(No symbol) [0x006EFFCB]\n\t(No symbol) [0x0072D952]\n\t(No symbol) [0x00711F44]\n\t(No symbol) [0x0072B51E]\n\t(No symbol) [0x00711C96]\n\t(No symbol) [0x006E3FAC]\n\t(No symbol) [0x006E4F3D]\n\tGetHandleVerifier [0x00B35543+3113795]\n\tGetHandleVerifier [0x00B4A20A+3198986]\n\tGetHandleVerifier [0x00B429E2+3168226]\n\tGetHandleVerifier [0x008E3250+680016]\n\t(No symbol) [0x007D572D]\n\t(No symbol) [0x007D29D8]\n\t(No symbol) [0x007D2B75]\n\t(No symbol) [0x007C57D0]\n\tBaseThreadInitThunk [0x76BB7BA9+25]\n\tRtlInitializeExceptionChain [0x779DC11B+107]\n\tRtlClearBits [0x779DC09F+191]\n"
     ]
    }
   ],
   "source": [
    "profile_info = {}\n",
    "\n",
    "sections = get_section(driver)\n",
    "for name in sections['section_name']:\n",
    "    section_info = get_section_info_by_name(driver, sections['section_name'], name, sections['full_xpath'])\n",
    "    profile_info[name] = section_info"
   ]
  },
  {
   "cell_type": "code",
   "execution_count": 415,
   "metadata": {},
   "outputs": [
    {
     "name": "stdout",
     "output_type": "stream",
     "text": [
      "About\n",
      "Activity\n",
      "Experience\n",
      "Education\n",
      "Licenses & certifications\n",
      "Skills\n",
      "Languages\n",
      "Interests\n"
     ]
    }
   ],
   "source": [
    "for name in sections['sections']:\n",
    "    print(name)"
   ]
  },
  {
   "cell_type": "markdown",
   "metadata": {},
   "source": [
    "# Test"
   ]
  },
  {
   "cell_type": "code",
   "execution_count": 408,
   "metadata": {},
   "outputs": [
    {
     "name": "stdout",
     "output_type": "stream",
     "text": [
      "- Finish initializing a driver\n",
      "- Finish importing the login credentials\n",
      "- Finish keying in email\n",
      "- Finish keying in password\n",
      "- Finish Task: Login to Linkedin\n"
     ]
    },
    {
     "ename": "TypeError",
     "evalue": "unhashable type: 'dict'",
     "output_type": "error",
     "traceback": [
      "\u001b[1;31m---------------------------------------------------------------------------\u001b[0m",
      "\u001b[1;31mTypeError\u001b[0m                                 Traceback (most recent call last)",
      "Cell \u001b[1;32mIn[408], line 16\u001b[0m\n\u001b[0;32m     14\u001b[0m \u001b[38;5;66;03m#crawl one profile\u001b[39;00m\n\u001b[0;32m     15\u001b[0m profile_url \u001b[38;5;241m=\u001b[39m URL\n\u001b[1;32m---> 16\u001b[0m profile_info \u001b[38;5;241m=\u001b[39m \u001b[43mcrawl_profile\u001b[49m\u001b[43m(\u001b[49m\u001b[43mdriver\u001b[49m\u001b[43m,\u001b[49m\u001b[43m \u001b[49m\u001b[43mprofile_url\u001b[49m\u001b[43m)\u001b[49m\n\u001b[0;32m     18\u001b[0m profile_info\n",
      "Cell \u001b[1;32mIn[406], line 9\u001b[0m, in \u001b[0;36mcrawl_profile\u001b[1;34m(driver, profile_url)\u001b[0m\n\u001b[0;32m      7\u001b[0m \u001b[38;5;66;03m#get contact info\u001b[39;00m\n\u001b[0;32m      8\u001b[0m contact_info \u001b[38;5;241m=\u001b[39m get_contact_info(driver)\n\u001b[1;32m----> 9\u001b[0m \u001b[43mprofile_info\u001b[49m\u001b[43m[\u001b[49m\u001b[38;5;124;43m'\u001b[39;49m\u001b[38;5;124;43mContact info\u001b[39;49m\u001b[38;5;124;43m'\u001b[39;49m\u001b[43m:\u001b[49m\u001b[43m \u001b[49m\u001b[43mcontact_info\u001b[49m\u001b[43m]\u001b[49m\n\u001b[0;32m     11\u001b[0m \u001b[38;5;66;03m#get section info\u001b[39;00m\n\u001b[0;32m     12\u001b[0m sections \u001b[38;5;241m=\u001b[39m get_section(driver)\n",
      "\u001b[1;31mTypeError\u001b[0m: unhashable type: 'dict'"
     ]
    }
   ],
   "source": [
    "# URL = 'https://www.linkedin.com/in/selenado/'\n",
    "URL = 'https://www.linkedin.com/in/trieuchinh/'\n",
    "# URL = 'https://www.linkedin.com/in/tr%E1%BA%A7n-ho%C3%A0ng-qu%C3%A2n-37817ab6/'\n",
    "\n",
    "password = \"prodn123\"\n",
    "username = \"skytdv123@gmail.com\"\n",
    "\n",
    "# init driver\n",
    "driver = webdriver.Chrome(service=ChromeService(ChromeDriverManager().install()))\n",
    "\n",
    "# login\n",
    "login(driver, username, password)\n",
    "\n",
    "#crawl one profile\n",
    "profile_url = URL\n",
    "profile_info = crawl_profile(driver, profile_url)\n",
    "\n",
    "profile_info"
   ]
  },
  {
   "cell_type": "code",
   "execution_count": null,
   "metadata": {},
   "outputs": [],
   "source": []
  }
 ],
 "metadata": {
  "kernelspec": {
   "display_name": "Python 3",
   "language": "python",
   "name": "python3"
  },
  "language_info": {
   "codemirror_mode": {
    "name": "ipython",
    "version": 3
   },
   "file_extension": ".py",
   "mimetype": "text/x-python",
   "name": "python",
   "nbconvert_exporter": "python",
   "pygments_lexer": "ipython3",
   "version": "3.12.2"
  }
 },
 "nbformat": 4,
 "nbformat_minor": 4
}
